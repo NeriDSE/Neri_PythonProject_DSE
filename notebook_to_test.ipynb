{
 "cells": [
  {
   "cell_type": "code",
   "execution_count": 2,
   "metadata": {},
   "outputs": [],
   "source": [
    "import pandas as pd\n",
    "import numpy as np\n",
    "import csv\n",
    "from scipy.stats import norm\n",
    "import streamlit as st\n",
    "\n"
   ]
  },
  {
   "cell_type": "code",
   "execution_count": 3,
   "metadata": {},
   "outputs": [],
   "source": [
    "file_name = \"2022-01-08.csv\" \n",
    "dataset = pd.read_csv(file_name)\n",
    "    \n",
    "\n"
   ]
  },
  {
   "cell_type": "code",
   "execution_count": null,
   "metadata": {},
   "outputs": [],
   "source": [
    "dataset.head(10)"
   ]
  },
  {
   "cell_type": "code",
   "execution_count": 71,
   "metadata": {},
   "outputs": [
    {
     "data": {
      "text/html": [
       "<div>\n",
       "<style scoped>\n",
       "    .dataframe tbody tr th:only-of-type {\n",
       "        vertical-align: middle;\n",
       "    }\n",
       "\n",
       "    .dataframe tbody tr th {\n",
       "        vertical-align: top;\n",
       "    }\n",
       "\n",
       "    .dataframe thead th {\n",
       "        text-align: right;\n",
       "    }\n",
       "</style>\n",
       "<table border=\"1\" class=\"dataframe\">\n",
       "  <thead>\n",
       "    <tr style=\"text-align: right;\">\n",
       "      <th></th>\n",
       "      <th>Game Index</th>\n",
       "      <th>ID</th>\n",
       "      <th>Name</th>\n",
       "      <th>Year</th>\n",
       "      <th>Rank</th>\n",
       "      <th>Average</th>\n",
       "      <th>Bayes Average</th>\n",
       "      <th>Number_of_Ratings</th>\n",
       "    </tr>\n",
       "  </thead>\n",
       "  <tbody>\n",
       "    <tr>\n",
       "      <th>0</th>\n",
       "      <td>105</td>\n",
       "      <td>30549</td>\n",
       "      <td>Pandemic</td>\n",
       "      <td>2008</td>\n",
       "      <td>106</td>\n",
       "      <td>7.59</td>\n",
       "      <td>7.487</td>\n",
       "      <td>108975</td>\n",
       "    </tr>\n",
       "    <tr>\n",
       "      <th>1</th>\n",
       "      <td>189</td>\n",
       "      <td>822</td>\n",
       "      <td>Carcassonne</td>\n",
       "      <td>2000</td>\n",
       "      <td>190</td>\n",
       "      <td>7.42</td>\n",
       "      <td>7.309</td>\n",
       "      <td>108738</td>\n",
       "    </tr>\n",
       "    <tr>\n",
       "      <th>2</th>\n",
       "      <td>428</td>\n",
       "      <td>13</td>\n",
       "      <td>Catan</td>\n",
       "      <td>1995</td>\n",
       "      <td>429</td>\n",
       "      <td>7.14</td>\n",
       "      <td>6.970</td>\n",
       "      <td>108024</td>\n",
       "    </tr>\n",
       "    <tr>\n",
       "      <th>3</th>\n",
       "      <td>72</td>\n",
       "      <td>68448</td>\n",
       "      <td>7 Wonders</td>\n",
       "      <td>2010</td>\n",
       "      <td>73</td>\n",
       "      <td>7.74</td>\n",
       "      <td>7.634</td>\n",
       "      <td>89982</td>\n",
       "    </tr>\n",
       "    <tr>\n",
       "      <th>4</th>\n",
       "      <td>103</td>\n",
       "      <td>36218</td>\n",
       "      <td>Dominion</td>\n",
       "      <td>2008</td>\n",
       "      <td>104</td>\n",
       "      <td>7.61</td>\n",
       "      <td>7.499</td>\n",
       "      <td>81561</td>\n",
       "    </tr>\n",
       "    <tr>\n",
       "      <th>...</th>\n",
       "      <td>...</td>\n",
       "      <td>...</td>\n",
       "      <td>...</td>\n",
       "      <td>...</td>\n",
       "      <td>...</td>\n",
       "      <td>...</td>\n",
       "      <td>...</td>\n",
       "      <td>...</td>\n",
       "    </tr>\n",
       "    <tr>\n",
       "      <th>21826</th>\n",
       "      <td>12748</td>\n",
       "      <td>296892</td>\n",
       "      <td>Sacred Rites</td>\n",
       "      <td>2020</td>\n",
       "      <td>12749</td>\n",
       "      <td>7.37</td>\n",
       "      <td>5.531</td>\n",
       "      <td>30</td>\n",
       "    </tr>\n",
       "    <tr>\n",
       "      <th>21827</th>\n",
       "      <td>15016</td>\n",
       "      <td>217378</td>\n",
       "      <td>BABEL</td>\n",
       "      <td>2016</td>\n",
       "      <td>15017</td>\n",
       "      <td>6.61</td>\n",
       "      <td>5.517</td>\n",
       "      <td>30</td>\n",
       "    </tr>\n",
       "    <tr>\n",
       "      <th>21828</th>\n",
       "      <td>19459</td>\n",
       "      <td>18063</td>\n",
       "      <td>Goldrush</td>\n",
       "      <td>1970</td>\n",
       "      <td>19460</td>\n",
       "      <td>5.00</td>\n",
       "      <td>5.488</td>\n",
       "      <td>30</td>\n",
       "    </tr>\n",
       "    <tr>\n",
       "      <th>21829</th>\n",
       "      <td>17256</td>\n",
       "      <td>10052</td>\n",
       "      <td>Bongo Kongo</td>\n",
       "      <td>1989</td>\n",
       "      <td>17257</td>\n",
       "      <td>5.80</td>\n",
       "      <td>5.505</td>\n",
       "      <td>30</td>\n",
       "    </tr>\n",
       "    <tr>\n",
       "      <th>21830</th>\n",
       "      <td>12768</td>\n",
       "      <td>165946</td>\n",
       "      <td>Green Beret: Vietnam</td>\n",
       "      <td>2015</td>\n",
       "      <td>12769</td>\n",
       "      <td>7.21</td>\n",
       "      <td>5.531</td>\n",
       "      <td>30</td>\n",
       "    </tr>\n",
       "  </tbody>\n",
       "</table>\n",
       "<p>21831 rows × 8 columns</p>\n",
       "</div>"
      ],
      "text/plain": [
       "       Game Index      ID                  Name  Year   Rank  Average  \\\n",
       "0             105   30549              Pandemic  2008    106     7.59   \n",
       "1             189     822           Carcassonne  2000    190     7.42   \n",
       "2             428      13                 Catan  1995    429     7.14   \n",
       "3              72   68448             7 Wonders  2010     73     7.74   \n",
       "4             103   36218              Dominion  2008    104     7.61   \n",
       "...           ...     ...                   ...   ...    ...      ...   \n",
       "21826       12748  296892          Sacred Rites  2020  12749     7.37   \n",
       "21827       15016  217378                 BABEL  2016  15017     6.61   \n",
       "21828       19459   18063              Goldrush  1970  19460     5.00   \n",
       "21829       17256   10052           Bongo Kongo  1989  17257     5.80   \n",
       "21830       12768  165946  Green Beret: Vietnam  2015  12769     7.21   \n",
       "\n",
       "       Bayes Average  Number_of_Ratings  \n",
       "0              7.487             108975  \n",
       "1              7.309             108738  \n",
       "2              6.970             108024  \n",
       "3              7.634              89982  \n",
       "4              7.499              81561  \n",
       "...              ...                ...  \n",
       "21826          5.531                 30  \n",
       "21827          5.517                 30  \n",
       "21828          5.488                 30  \n",
       "21829          5.505                 30  \n",
       "21830          5.531                 30  \n",
       "\n",
       "[21831 rows x 8 columns]"
      ]
     },
     "execution_count": 71,
     "metadata": {},
     "output_type": "execute_result"
    }
   ],
   "source": [
    "clean_data  = dataset.drop([\"URL\", \"Thumbnail\"], axis = 1) \n",
    "clean_data = clean_data.rename(columns = {\"Unnamed: 0\" : \"Game Index\", \"Bayes average\": \"Bayes Average\", \"Users rated\" : \"Number_of_Ratings\"})\n",
    "\n",
    "# Cleaned the data: took out the Bayes average, URL and thumbnail columns\n",
    "\n",
    "clean_data"
   ]
  },
  {
   "cell_type": "code",
   "execution_count": null,
   "metadata": {},
   "outputs": [],
   "source": [
    "# Data sorted by the average score\n",
    "data_by_average = clean_data.sort_values(\"Average\", ascending= False)\n",
    "\n",
    "# I could move it through the following method, but I won't do it yet: \n",
    "# # Move column \"C\" to the first position\n",
    "# column = data.pop(\"C\")\n",
    "# data.insert(0, \"C\", column)\n",
    "# print(data)\n",
    "\n",
    "data_by_average"
   ]
  },
  {
   "cell_type": "code",
   "execution_count": null,
   "metadata": {},
   "outputs": [],
   "source": [
    "# Data sorted by the rank, same as sorting by the Bayes Average\n",
    "data_by_rank = clean_data.sort_values(\"Rank\")\n",
    "data_by_rank"
   ]
  },
  {
   "cell_type": "code",
   "execution_count": null,
   "metadata": {},
   "outputs": [],
   "source": [
    "data_sorted_by_bayes = clean_data.sort_values(\"Bayes Average\", ascending = False)\n",
    "data_sorted_by_bayes"
   ]
  },
  {
   "cell_type": "code",
   "execution_count": 7,
   "metadata": {},
   "outputs": [],
   "source": [
    "file_reviews = \"bgg-19m-reviews.csv\" # second dataset\n",
    "dataset_reviews = pd.read_csv(file_reviews)\n",
    "# dataset_reviews.head(10)\n",
    "# takes 45 secs to run, tough"
   ]
  },
  {
   "cell_type": "code",
   "execution_count": null,
   "metadata": {},
   "outputs": [],
   "source": [
    "dataset_reviews.head(10)"
   ]
  },
  {
   "cell_type": "code",
   "execution_count": 8,
   "metadata": {},
   "outputs": [],
   "source": [
    "# Clean the second dataset\n",
    "# The unnamed section is kind of useless, and so are the user names\n",
    "# the comments could be useful but \n",
    "clean_review_data = dataset_reviews.drop([\"Unnamed: 0\", \"comment\"], axis = 1)\n",
    "clean_review_data = clean_review_data.rename(columns = {\"user\":\"User\", \"rating\":\"Rating\", \"name\" : \"Name_of_Game\"})"
   ]
  },
  {
   "cell_type": "code",
   "execution_count": null,
   "metadata": {},
   "outputs": [],
   "source": [
    "clean_review_data\n",
    "# count the number of times a game (an ID) has a positive review (> 6) \n",
    "# for each ID and divide by the total number of reviews.\n",
    "# join after, subquery "
   ]
  },
  {
   "cell_type": "code",
   "execution_count": null,
   "metadata": {},
   "outputs": [],
   "source": [
    "clean_review_data.loc[(clean_review_data[\"ID\"] == 1752) & (clean_review_data['Rating'] >= 6.0)]\n"
   ]
  },
  {
   "cell_type": "code",
   "execution_count": 9,
   "metadata": {},
   "outputs": [
    {
     "data": {
      "text/plain": [
       "102640"
      ]
     },
     "execution_count": 9,
     "metadata": {},
     "output_type": "execute_result"
    }
   ],
   "source": [
    "# Finding the number of positive reviews per game:\n",
    "def count_positive_reviews_per_game(dataset, ID):\n",
    "    \n",
    "    df_positive_reviews = dataset.loc[(dataset[\"ID\"] == ID) & (dataset['Rating'] >= 6.0)] \n",
    "    # Loc Accesses a group of columns by labels and makes a new df\n",
    "    positive_reviews_count = df_positive_reviews['Rating'].count() \n",
    "    # the variable counts every element in the df, so all the positive reviews\n",
    "    \n",
    "    \n",
    "    return int(positive_reviews_count)\n",
    "count_positive_reviews_per_game(clean_review_data, 30549 )"
   ]
  },
  {
   "cell_type": "code",
   "execution_count": 10,
   "metadata": {},
   "outputs": [
    {
     "data": {
      "text/plain": [
       "108975"
      ]
     },
     "execution_count": 10,
     "metadata": {},
     "output_type": "execute_result"
    }
   ],
   "source": [
    "# Function to get the total number of ratings for any game out of any dataset.\n",
    "def total_reviews(dataset, ID):\n",
    "    # Identify the column with the total number of ratings for every game (yields a series)\n",
    "    total_reviews = dataset['Number_of_Ratings']\n",
    "    # get specific row of the first ID, I might not even need this line...\n",
    "    total_reviews_ID = total_reviews.loc[(dataset['ID']== ID)]\n",
    "    return int(total_reviews_ID.iloc[0])\n",
    "\n",
    "total_reviews(clean_data, 30549)"
   ]
  },
  {
   "cell_type": "code",
   "execution_count": 11,
   "metadata": {},
   "outputs": [
    {
     "data": {
      "text/plain": [
       "0.942"
      ]
     },
     "execution_count": 11,
     "metadata": {},
     "output_type": "execute_result"
    }
   ],
   "source": [
    "def share_of_positive_reviews_per_game(ID):\n",
    "    share_of_pos_reviews_per_game = float(count_positive_reviews_per_game(clean_review_data, ID) / total_reviews(clean_data, ID))\n",
    "    return round(share_of_pos_reviews_per_game, 3)\n",
    "\n",
    "share_of_positive_reviews_per_game(30549)\n"
   ]
  },
  {
   "cell_type": "code",
   "execution_count": null,
   "metadata": {},
   "outputs": [],
   "source": [
    "# trial run for share of positive reviews for each game\n",
    "for id in clean_data['ID']:\n",
    "    print(share_of_positive_reviews_per_game(id))\n",
    "\n"
   ]
  },
  {
   "cell_type": "code",
   "execution_count": 12,
   "metadata": {},
   "outputs": [
    {
     "data": {
      "text/plain": [
       "0.94"
      ]
     },
     "execution_count": 12,
     "metadata": {},
     "output_type": "execute_result"
    }
   ],
   "source": [
    "def confidence_level(confidence):\n",
    "    cl = norm.ppf(1- (1 - confidence)/2)\n",
    "    return cl\n",
    "# https://stackoverflow.com/questions/20864847/probability-to-z-score-and-vice-versa\n",
    "\n",
    "def Wilson_Function(ID, confidence = .95):\n",
    "    z = confidence_level(confidence)\n",
    "    n = total_reviews(clean_data, ID)\n",
    "    p_hat = 1 * share_of_positive_reviews_per_game(ID) #/ total_reviews(clean_data, ID)\n",
    "    \n",
    "    wilson_score = round(float((p_hat + z**2/(2*n) - z*np.sqrt((p_hat*(1 - p_hat) + z**2/(4*n))/n)) / (1 + (z**2)/n)), 2)\n",
    "    \n",
    "\n",
    "\n",
    "    return wilson_score\n",
    "Wilson_Function(30549 , .95)"
   ]
  },
  {
   "cell_type": "code",
   "execution_count": 13,
   "metadata": {},
   "outputs": [
    {
     "data": {
      "text/plain": [
       "[2, 2, 1, 6, 9, 5, 4, 1, 0, 0]"
      ]
     },
     "execution_count": 13,
     "metadata": {},
     "output_type": "execute_result"
    }
   ],
   "source": [
    "def array_scores(dataset, ID):\n",
    "    list_scores = []\n",
    "    for i in range(1,11):\n",
    "        # return rows for my specific ID with the rating being between certain values.\n",
    "        number_reviews_for_each_rating = dataset.loc[(dataset['ID'] == ID) & (dataset['Rating'].between(i, i + 1, inclusive='left'))]\n",
    "        i_reviews = number_reviews_for_each_rating['Rating'].count()\n",
    "        \n",
    "        \n",
    "        list_scores.append(int(i_reviews))\n",
    "    \n",
    "    \n",
    "    return list_scores\n",
    "array_scores(clean_review_data, 1752)\n"
   ]
  },
  {
   "cell_type": "code",
   "execution_count": 14,
   "metadata": {},
   "outputs": [
    {
     "data": {
      "text/plain": [
       "4.33"
      ]
     },
     "execution_count": 14,
     "metadata": {},
     "output_type": "execute_result"
    }
   ],
   "source": [
    "def Bayesian_Average(ID, dataset = clean_review_data, confidence = .95):\n",
    "    z = confidence_level(confidence)\n",
    "    n = array_scores(dataset, ID)\n",
    "    N = sum(n)\n",
    "    first_part = 0\n",
    "    second_part = 0\n",
    "    for k, n_k in enumerate(n):\n",
    "        first_part += (k+1)*(n[k]+1)/(N + 10)\n",
    "        second_part += (k+1)*(k+1)*(n[k]+1)/(N+10)\n",
    "    score = first_part - z*np.sqrt((second_part - first_part*first_part)/(N+11))\n",
    "    \n",
    "    return round(float(score), 2)\n",
    "\n",
    "Bayesian_Average(1752)\n",
    "# I need a better understanding of wtf this does. but also, I need to add it to the columns and graph it. I guess that's a tomorrow\n",
    "# morning kind of job.\n",
    "# then I want to implement all the rest of the stuff. the comments, which requires the new dataset and all...\n"
   ]
  },
  {
   "cell_type": "code",
   "execution_count": null,
   "metadata": {},
   "outputs": [],
   "source": [
    "def New_Column(dataset, function):\n",
    "    # create an empty list (our future column)\n",
    "    New_column = []\n",
    "    # for each row in a dataset I have to find its ID and apply a the funciton over it\n",
    "    for id in dataset['ID'].unique():\n",
    "        New_column.append(function(id))\n",
    "    \n",
    "    return New_column\n",
    "\n"
   ]
  },
  {
   "cell_type": "code",
   "execution_count": 120,
   "metadata": {},
   "outputs": [],
   "source": [
    "# Adding a column to a dataset\n",
    "def add_new_column_to_dataset(dataset_input, dataset_output, function, title_of_column = 'New Column'):\n",
    "    # create an empty list (our future column)\n",
    "    New_column = []\n",
    "    # for each row in a dataset I have to find its ID and apply a the funciton over it\n",
    "    for id in dataset_input['ID'].unique():\n",
    "        New_column.append(function(id))\n",
    "        \n",
    "    dataset_output.insert(0, title_of_column, New_column)\n",
    "    \n",
    "    return dataset_output\n",
    "\n",
    "# A function to create a database for each section of my data (most, mid, and leaset reviewed)\n",
    "def clean_review_data_x_reviewed(output_database, global_database = clean_review_data):\n",
    "    desired_ids = output_database['ID']\n",
    "    clean_review_data_x_reviewed = global_database[global_database['ID'].isin(desired_ids)]\n",
    "    return clean_review_data_x_reviewed"
   ]
  },
  {
   "cell_type": "code",
   "execution_count": null,
   "metadata": {},
   "outputs": [],
   "source": [
    "most_reviewed_games = clean_data[clean_data['Number_of_Ratings'] > 25000] # Top 100 games, this way. (65000 for top 11)\n",
    "add_new_column_to_dataset(clean_review_data_x_reviewed(most_reviewed_games),  most_reviewed_games, Bayesian_Average, 'New_Bayesian_Average') \n",
    "most_reviewed_games.sort_values('New_Bayesian_Average', ascending = False)"
   ]
  },
  {
   "cell_type": "code",
   "execution_count": null,
   "metadata": {},
   "outputs": [],
   "source": [
    "# LEAST Reviewed Games\n",
    "least_reviewed_games = clean_data[clean_data['Number_of_Ratings']== 50] # Bottom 164 games, possibly change this interval, overall pretty goo job though.\n",
    "\n",
    "add_new_column_to_dataset(clean_review_data_x_reviewed(least_reviewed_games), least_reviewed_games, Bayesian_Average, 'New_Bayesian_Average')\n",
    "\n",
    "least_reviewed_games.sort_values('New_Bayesian_Average', ascending = False)\n",
    "# you could look at this top ten and break down the comments for the top 10, now that's actually kind of cool.\n",
    "# can organize them by year"
   ]
  },
  {
   "cell_type": "code",
   "execution_count": null,
   "metadata": {},
   "outputs": [
    {
     "data": {
      "text/html": [
       "<div>\n",
       "<style scoped>\n",
       "    .dataframe tbody tr th:only-of-type {\n",
       "        vertical-align: middle;\n",
       "    }\n",
       "\n",
       "    .dataframe tbody tr th {\n",
       "        vertical-align: top;\n",
       "    }\n",
       "\n",
       "    .dataframe thead th {\n",
       "        text-align: right;\n",
       "    }\n",
       "</style>\n",
       "<table border=\"1\" class=\"dataframe\">\n",
       "  <thead>\n",
       "    <tr style=\"text-align: right;\">\n",
       "      <th></th>\n",
       "      <th>New_Bayesian_Average</th>\n",
       "      <th>Game Index</th>\n",
       "      <th>ID</th>\n",
       "      <th>Name</th>\n",
       "      <th>Year</th>\n",
       "      <th>Rank</th>\n",
       "      <th>Average</th>\n",
       "      <th>Bayes Average</th>\n",
       "      <th>Number_of_Ratings</th>\n",
       "    </tr>\n",
       "  </thead>\n",
       "  <tbody>\n",
       "    <tr>\n",
       "      <th>891</th>\n",
       "      <td>6.62</td>\n",
       "      <td>557</td>\n",
       "      <td>180511</td>\n",
       "      <td>Shakespeare</td>\n",
       "      <td>2015</td>\n",
       "      <td>558</td>\n",
       "      <td>7.43</td>\n",
       "      <td>6.842</td>\n",
       "      <td>3998</td>\n",
       "    </tr>\n",
       "    <tr>\n",
       "      <th>892</th>\n",
       "      <td>7.27</td>\n",
       "      <td>539</td>\n",
       "      <td>1513</td>\n",
       "      <td>The Republic of Rome</td>\n",
       "      <td>1990</td>\n",
       "      <td>540</td>\n",
       "      <td>7.54</td>\n",
       "      <td>6.863</td>\n",
       "      <td>3997</td>\n",
       "    </tr>\n",
       "    <tr>\n",
       "      <th>893</th>\n",
       "      <td>7.41</td>\n",
       "      <td>1587</td>\n",
       "      <td>180020</td>\n",
       "      <td>Virus!</td>\n",
       "      <td>2015</td>\n",
       "      <td>1588</td>\n",
       "      <td>6.76</td>\n",
       "      <td>6.261</td>\n",
       "      <td>3990</td>\n",
       "    </tr>\n",
       "    <tr>\n",
       "      <th>894</th>\n",
       "      <td>6.61</td>\n",
       "      <td>1362</td>\n",
       "      <td>252929</td>\n",
       "      <td>Planet</td>\n",
       "      <td>2018</td>\n",
       "      <td>1363</td>\n",
       "      <td>6.75</td>\n",
       "      <td>6.349</td>\n",
       "      <td>3989</td>\n",
       "    </tr>\n",
       "    <tr>\n",
       "      <th>895</th>\n",
       "      <td>6.75</td>\n",
       "      <td>1105</td>\n",
       "      <td>132372</td>\n",
       "      <td>Guildhall</td>\n",
       "      <td>2012</td>\n",
       "      <td>1106</td>\n",
       "      <td>6.91</td>\n",
       "      <td>6.483</td>\n",
       "      <td>3984</td>\n",
       "    </tr>\n",
       "    <tr>\n",
       "      <th>...</th>\n",
       "      <td>...</td>\n",
       "      <td>...</td>\n",
       "      <td>...</td>\n",
       "      <td>...</td>\n",
       "      <td>...</td>\n",
       "      <td>...</td>\n",
       "      <td>...</td>\n",
       "      <td>...</td>\n",
       "      <td>...</td>\n",
       "    </tr>\n",
       "    <tr>\n",
       "      <th>1004</th>\n",
       "      <td>6.27</td>\n",
       "      <td>843</td>\n",
       "      <td>244331</td>\n",
       "      <td>Blue Lagoon</td>\n",
       "      <td>2018</td>\n",
       "      <td>844</td>\n",
       "      <td>7.19</td>\n",
       "      <td>6.636</td>\n",
       "      <td>3521</td>\n",
       "    </tr>\n",
       "    <tr>\n",
       "      <th>1005</th>\n",
       "      <td>7.71</td>\n",
       "      <td>378</td>\n",
       "      <td>215341</td>\n",
       "      <td>Thunderstone Quest</td>\n",
       "      <td>2018</td>\n",
       "      <td>379</td>\n",
       "      <td>7.86</td>\n",
       "      <td>7.038</td>\n",
       "      <td>3515</td>\n",
       "    </tr>\n",
       "    <tr>\n",
       "      <th>1006</th>\n",
       "      <td>7.23</td>\n",
       "      <td>2026</td>\n",
       "      <td>382</td>\n",
       "      <td>Heimlich &amp; Co.</td>\n",
       "      <td>1984</td>\n",
       "      <td>2027</td>\n",
       "      <td>6.44</td>\n",
       "      <td>6.125</td>\n",
       "      <td>3509</td>\n",
       "    </tr>\n",
       "    <tr>\n",
       "      <th>1007</th>\n",
       "      <td>6.31</td>\n",
       "      <td>803</td>\n",
       "      <td>204472</td>\n",
       "      <td>Sub Terra</td>\n",
       "      <td>2017</td>\n",
       "      <td>804</td>\n",
       "      <td>7.38</td>\n",
       "      <td>6.672</td>\n",
       "      <td>3506</td>\n",
       "    </tr>\n",
       "    <tr>\n",
       "      <th>1008</th>\n",
       "      <td>6.69</td>\n",
       "      <td>1272</td>\n",
       "      <td>101785</td>\n",
       "      <td>D-Day Dice</td>\n",
       "      <td>2012</td>\n",
       "      <td>1273</td>\n",
       "      <td>6.84</td>\n",
       "      <td>6.389</td>\n",
       "      <td>3506</td>\n",
       "    </tr>\n",
       "  </tbody>\n",
       "</table>\n",
       "<p>118 rows × 9 columns</p>\n",
       "</div>"
      ],
      "text/plain": [
       "      New_Bayesian_Average  Game Index      ID                  Name  Year  \\\n",
       "891                   6.62         557  180511           Shakespeare  2015   \n",
       "892                   7.27         539    1513  The Republic of Rome  1990   \n",
       "893                   7.41        1587  180020                Virus!  2015   \n",
       "894                   6.61        1362  252929                Planet  2018   \n",
       "895                   6.75        1105  132372             Guildhall  2012   \n",
       "...                    ...         ...     ...                   ...   ...   \n",
       "1004                  6.27         843  244331           Blue Lagoon  2018   \n",
       "1005                  7.71         378  215341    Thunderstone Quest  2018   \n",
       "1006                  7.23        2026     382        Heimlich & Co.  1984   \n",
       "1007                  6.31         803  204472             Sub Terra  2017   \n",
       "1008                  6.69        1272  101785            D-Day Dice  2012   \n",
       "\n",
       "      Rank  Average  Bayes Average  Number_of_Ratings  \n",
       "891    558     7.43          6.842               3998  \n",
       "892    540     7.54          6.863               3997  \n",
       "893   1588     6.76          6.261               3990  \n",
       "894   1363     6.75          6.349               3989  \n",
       "895   1106     6.91          6.483               3984  \n",
       "...    ...      ...            ...                ...  \n",
       "1004   844     7.19          6.636               3521  \n",
       "1005   379     7.86          7.038               3515  \n",
       "1006  2027     6.44          6.125               3509  \n",
       "1007   804     7.38          6.672               3506  \n",
       "1008  1273     6.84          6.389               3506  \n",
       "\n",
       "[118 rows x 9 columns]"
      ]
     },
     "execution_count": 129,
     "metadata": {},
     "output_type": "execute_result"
    }
   ],
   "source": [
    "# MID Reviewed Games\n",
    "mid_reviewed_games = clean_data[clean_data['Number_of_Ratings'].between(3500, 4000)] #65000 for top 11.\n",
    "#len(clean_data2)\n",
    "\n",
    "add_new_column_to_dataset(clean_review_data_x_reviewed(mid_reviewed_games), mid_reviewed_games, Bayesian_Average, 'New_Bayesian_Average')\n",
    "mid_reviewed_games.sort_values('New_Bayesian_Average', ascending = False)"
   ]
  },
  {
   "cell_type": "code",
   "execution_count": null,
   "metadata": {},
   "outputs": [],
   "source": [
    "# Motivation for range of mid_reviewed_games:\n",
    "\n",
    "# 13.6k games between 30 reviews and 200 reviews\n",
    "# 5.3k games between 200 reviews and a 1000 reviews\n",
    "# 1.3 k games between 1000 and 2200 reviews\n",
    "# the average being 866 and there being 130000 games with very few reviews I thought 3500-4000\n",
    "average_ratings_per_game = clean_data['Number_of_Ratings']\n",
    "average_ratings_dataset = int(np.average(average_ratings_per_game))\n",
    "average_ratings_dataset"
   ]
  },
  {
   "cell_type": "code",
   "execution_count": null,
   "metadata": {},
   "outputs": [],
   "source": [
    "# Plotting the New_Bayesian_Average vs the common average for the top rated games\n",
    "# How tf you use matplotlib lmao."
   ]
  }
 ],
 "metadata": {
  "kernelspec": {
   "display_name": "Python 3",
   "language": "python",
   "name": "python3"
  },
  "language_info": {
   "codemirror_mode": {
    "name": "ipython",
    "version": 3
   },
   "file_extension": ".py",
   "mimetype": "text/x-python",
   "name": "python",
   "nbconvert_exporter": "python",
   "pygments_lexer": "ipython3",
   "version": "3.12.4"
  }
 },
 "nbformat": 4,
 "nbformat_minor": 2
}
