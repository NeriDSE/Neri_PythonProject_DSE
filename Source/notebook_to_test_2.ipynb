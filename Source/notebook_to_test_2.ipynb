{
 "cells": [
  {
   "cell_type": "code",
   "execution_count": 40,
   "metadata": {},
   "outputs": [],
   "source": [
    "\n",
    "import pandas as pd\n",
    "import numpy as np\n",
    "from scipy.stats import norm\n",
    "import matplotlib.pyplot as plt\n",
    "import os\n",
    "import importlib # this is just for me\n",
    "import ranking_algorithms as ra\n",
    "import dataset_by_review_bracket as rb\n",
    "import graph\n",
    "%matplotlib inline\n",
    "\n",
    "\n",
    "# %load_ext autoreload\n",
    "# %autoreload 2\n"
   ]
  },
  {
   "cell_type": "code",
   "execution_count": null,
   "metadata": {},
   "outputs": [
    {
     "data": {
      "text/plain": [
       "<module 'functions' from 'c:\\\\Users\\\\Neri\\\\Downloads\\\\DSE\\\\DATA_MANAGEMENT\\\\PYTHON\\\\python_project(rankingboardgames)\\\\Source\\\\functions.py'>"
      ]
     },
     "execution_count": 12,
     "metadata": {},
     "output_type": "execute_result"
    }
   ],
   "source": [
    "importlib.reload(ra)\n",
    "# from functions import Wilson_Function"
   ]
  },
  {
   "cell_type": "code",
   "execution_count": 6,
   "metadata": {},
   "outputs": [
    {
     "name": "stderr",
     "output_type": "stream",
     "text": [
      "<string>:4: SyntaxWarning: invalid escape sequence '\\{'\n",
      "<>:4: SyntaxWarning: invalid escape sequence '\\{'\n",
      "<string>:4: SyntaxWarning: invalid escape sequence '\\{'\n",
      "<>:4: SyntaxWarning: invalid escape sequence '\\{'\n",
      "C:\\Users\\Neri\\AppData\\Local\\Temp\\ipykernel_11028\\3499617387.py:4: SyntaxWarning: invalid escape sequence '\\{'\n",
      "  dataset = pd.read_csv(f'{data_path}\\{rank_file}')\n"
     ]
    }
   ],
   "source": [
    "data_path = os.path.join(os.getcwd(), 'data')\n",
    "\n",
    "rank_file = \"2022-01-08.csv\" \n",
    "dataset = pd.read_csv(f'{data_path}\\{rank_file}')\n",
    "clean_rank_data  = dataset.drop([\"URL\", \"Thumbnail\", \"Unnamed: 0\", \"Bayes average\", 'Year'], axis = 1) \n",
    "clean_rank_data = clean_rank_data.rename(columns = {\"Users rated\" : \"Number of Ratings\"})\n",
    "\n",
    "file_reviews = \"bgg-19m-reviews.csv\" # second dataset\n",
    "dataset_reviews = pd.read_csv(f'{data_path}/{file_reviews}')\n",
    "clean_review_data = dataset_reviews.drop([\"Unnamed: 0\", \"comment\"], axis = 1)\n",
    "clean_review_data = clean_review_data.rename(columns = {\"user\":\"User\", \"rating\":\"Rating\", \"name\" : \"Name_of_Game\"})"
   ]
  },
  {
   "cell_type": "code",
   "execution_count": 35,
   "metadata": {},
   "outputs": [
    {
     "data": {
      "text/plain": [
       "Index(['ID', 'Name', 'Rank', 'Average', 'Number of Ratings'], dtype='object')"
      ]
     },
     "execution_count": 35,
     "metadata": {},
     "output_type": "execute_result"
    }
   ],
   "source": [
    "clean_rank_data.columns"
   ]
  },
  {
   "cell_type": "code",
   "execution_count": null,
   "metadata": {},
   "outputs": [
    {
     "data": {
      "text/plain": [
       "4.33"
      ]
     },
     "execution_count": 38,
     "metadata": {},
     "output_type": "execute_result"
    }
   ],
   "source": [
    "# so cool\n",
    "wilson_object = ra.Wilson_Function('first_wilson_function', clean_rank_data, clean_review_data)\n",
    "wilson_object.Wilson_Function(1752)\n",
    "\n",
    "bayesian_object = ra.Bayesian_Average('bayesian_object', clean_rank_data, clean_review_data)\n",
    "bayesian_object.Bayesian_Average(1752)"
   ]
  },
  {
   "cell_type": "code",
   "execution_count": null,
   "metadata": {},
   "outputs": [
    {
     "ename": "SyntaxError",
     "evalue": "invalid syntax (2545180018.py, line 6)",
     "output_type": "error",
     "traceback": [
      "\u001b[1;36m  Cell \u001b[1;32mIn[41], line 6\u001b[1;36m\u001b[0m\n\u001b[1;33m    filtered_dataset = rb.\u001b[0m\n\u001b[1;37m                          ^\u001b[0m\n\u001b[1;31mSyntaxError\u001b[0m\u001b[1;31m:\u001b[0m invalid syntax\n"
     ]
    }
   ],
   "source": [
    "# but how can it apply the function to every id tho. how can the two objects communicate? they don't...\n",
    "# the object with the algorithms work\n",
    "# the objects with the graph probably works because I plug in the dataset cleaned up and it's all good\n",
    "\n",
    "# the problem is that the class of the filtered dataset is a mess. because the function does it fish from the other ones? the instance of the other class is useless then.\n",
    "# it's only for the singular ID... anyway\n",
    "# I am confident I can solve this all tomorrow, in any case I understood my own code better and I cleaned shit up a lot.\n",
    "# soeven if I roll back some stuff it'll be worth it in the end.\n",
    "\n",
    "filtered_dataset = rb."
   ]
  },
  {
   "cell_type": "code",
   "execution_count": null,
   "metadata": {},
   "outputs": [],
   "source": [
    "# there's a lot to do.\n",
    "# polish the dataset class with the restricted reviews and do the wilson score/ bayesian thing for it\n",
    "# create the graph class for each one. should be doable.\n",
    "\n"
   ]
  },
  {
   "cell_type": "code",
   "execution_count": 4,
   "metadata": {},
   "outputs": [],
   "source": [
    "# almost 19 Million users\n",
    "# from the column users I  want rows where a user has rated at least 10 games\n",
    "# So I want to find all the users who appear less than a certain amount of times and take them out of my datasets \n",
    "# so I can look at their ranking\n",
    "def top_user(dataset, number_of_top_users):\n",
    "    \n",
    "    # I want to say from this column of users \n",
    "    # if a user has appeared less than ten times drop them\n",
    "    user_appearance = dataset['User'].value_counts()\n",
    "    \n",
    "    for user in user_appearance:\n",
    "        \n",
    "        if value < 10:\n",
    "            top_users = dataset.drop(user, axis = 0)\n",
    "    \n",
    "    return top_users\n",
    "\n"
   ]
  },
  {
   "cell_type": "code",
   "execution_count": null,
   "metadata": {},
   "outputs": [],
   "source": [
    "x = clean_review_data['User'].value_counts()\n",
    "\n",
    "y = x[x>1000]\n",
    "y"
   ]
  },
  {
   "cell_type": "code",
   "execution_count": null,
   "metadata": {},
   "outputs": [],
   "source": [
    "y = clean_review_data[x>1000]\n",
    "# the og dataset but only with"
   ]
  },
  {
   "cell_type": "code",
   "execution_count": null,
   "metadata": {},
   "outputs": [],
   "source": [
    "top_user_dataset = clean_review_data['User']\n",
    "# the dataset ofa user"
   ]
  },
  {
   "cell_type": "code",
   "execution_count": null,
   "metadata": {},
   "outputs": [],
   "source": [
    "# for every user in the counts, I want the corresponding amount of times they have rated a game. I got that.\n",
    "# if this value is less than a certain amount I want this value removed from the review dataset.\n",
    "\n",
    "for user in x:\n",
    "    print(user)"
   ]
  },
  {
   "cell_type": "code",
   "execution_count": null,
   "metadata": {},
   "outputs": [
    {
     "data": {
      "text/plain": [
       "np.float64(45.94004820561268)"
      ]
     },
     "execution_count": 25,
     "metadata": {},
     "output_type": "execute_result"
    }
   ],
   "source": [
    "avg_user_appearance = np.average(x.values)\n",
    "avg_user_appearance\n",
    "# clean for ratings above 10 blow 0\n",
    "# nulls and duplicates"
   ]
  },
  {
   "cell_type": "code",
   "execution_count": null,
   "metadata": {},
   "outputs": [],
   "source": [
    "\n",
    "# def side_by_side_graphs(graph_left, graph_right):\n",
    "#     fig, ax = plt.subplots(1, 2)\n",
    "#     ax[0] = graph_left\n",
    "#     ax[1] = graph_right\n",
    "    \n",
    "#     return plt.show\n"
   ]
  }
 ],
 "metadata": {
  "kernelspec": {
   "display_name": "Python 3",
   "language": "python",
   "name": "python3"
  },
  "language_info": {
   "codemirror_mode": {
    "name": "ipython",
    "version": 3
   },
   "file_extension": ".py",
   "mimetype": "text/x-python",
   "name": "python",
   "nbconvert_exporter": "python",
   "pygments_lexer": "ipython3",
   "version": "3.12.4"
  }
 },
 "nbformat": 4,
 "nbformat_minor": 2
}
