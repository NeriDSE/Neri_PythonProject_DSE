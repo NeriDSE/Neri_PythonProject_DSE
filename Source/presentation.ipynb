{
 "cells": [
  {
   "cell_type": "markdown",
   "metadata": {},
   "source": [
    "# Neri Barocci - 53939A\n",
    "## Ranking Board Games\n",
    "### Python Project - DSE 25/11"
   ]
  },
  {
   "cell_type": "markdown",
   "metadata": {},
   "source": [
    "This project aims at ranking board games in the BGG (Board Game Geeks) database based on their user reviews. The project develops alternative solutions to rank the games andd filters the games based on the amount of reviews they have received. The output is a sorted databases and a graph of the top board games given the desired ranking score and desired amount of reviews per game."
   ]
  },
  {
   "cell_type": "markdown",
   "metadata": {},
   "source": [
    "### Data"
   ]
  },
  {
   "cell_type": "markdown",
   "metadata": {},
   "source": [
    "First step, processing the data (importing and cleaning):"
   ]
  },
  {
   "cell_type": "code",
   "execution_count": 97,
   "metadata": {},
   "outputs": [],
   "source": [
    "import os\n",
    "import pandas as pd\n",
    "\n",
    "''' From 'data_processing' module '''\n",
    "\n",
    "# Setting up path\n",
    "cwd = os.getcwd()\n",
    "data_path = os.path.join(cwd, 'data')\n",
    "\n",
    "# The Rank dataset contains the name (and unique ID) of every game on BGG\n",
    "# It also includes information on that game including how many users reviewed it and the arithmetic mean score of each game\n",
    "rank_file = \"2022-01-08.csv\" \n",
    "dataset_ranks = pd.read_csv(f'{data_path}\\\\{rank_file}')\n",
    "\n",
    "clean_rank_data  = dataset_ranks.drop([\"URL\", \"Thumbnail\", \"Unnamed: 0\", \"Bayes average\", 'Year'], axis = 1) \n",
    "clean_rank_data = clean_rank_data.rename(columns = {\"Users rated\" : \"Number of Ratings\", 'Rank' : 'BGG Rank'})\n",
    "\n",
    "\n",
    "# Reviews dataset, this dataset contains every individual score plus eventual comment of every game in the rank dataset. \n",
    "# It is a huge dataset with 19 Million entries, which forced the project to behave in a certain way.\n",
    "\n",
    "file_reviews = \"bgg-19m-reviews.csv\" \n",
    "dataset_reviews = pd.read_csv(f'{data_path}\\\\{file_reviews}') # importing the reviews dataset\n",
    "clean_review_data = dataset_reviews.drop([\"Unnamed: 0\", \"comment\"], axis = 1) # cleaning the dataset, dropping unnecessary columns and renaming others\n",
    "clean_review_data = clean_review_data.rename(columns = {\"user\":\"User\", \"rating\":\"Rating\", \"name\" : \"Name_of_Game\"})"
   ]
  },
  {
   "cell_type": "code",
   "execution_count": 10,
   "metadata": {},
   "outputs": [
    {
     "data": {
      "text/html": [
       "<div>\n",
       "<style scoped>\n",
       "    .dataframe tbody tr th:only-of-type {\n",
       "        vertical-align: middle;\n",
       "    }\n",
       "\n",
       "    .dataframe tbody tr th {\n",
       "        vertical-align: top;\n",
       "    }\n",
       "\n",
       "    .dataframe thead th {\n",
       "        text-align: right;\n",
       "    }\n",
       "</style>\n",
       "<table border=\"1\" class=\"dataframe\">\n",
       "  <thead>\n",
       "    <tr style=\"text-align: right;\">\n",
       "      <th></th>\n",
       "      <th>Unnamed: 0</th>\n",
       "      <th>ID</th>\n",
       "      <th>Name</th>\n",
       "      <th>Year</th>\n",
       "      <th>Rank</th>\n",
       "      <th>Average</th>\n",
       "      <th>Bayes average</th>\n",
       "      <th>Users rated</th>\n",
       "      <th>URL</th>\n",
       "      <th>Thumbnail</th>\n",
       "    </tr>\n",
       "  </thead>\n",
       "  <tbody>\n",
       "    <tr>\n",
       "      <th>0</th>\n",
       "      <td>105</td>\n",
       "      <td>30549</td>\n",
       "      <td>Pandemic</td>\n",
       "      <td>2008</td>\n",
       "      <td>106</td>\n",
       "      <td>7.59</td>\n",
       "      <td>7.487</td>\n",
       "      <td>108975</td>\n",
       "      <td>/boardgame/30549/pandemic</td>\n",
       "      <td>https://cf.geekdo-images.com/S3ybV1LAp-8SnHIXL...</td>\n",
       "    </tr>\n",
       "  </tbody>\n",
       "</table>\n",
       "</div>"
      ],
      "text/plain": [
       "   Unnamed: 0     ID      Name  Year  Rank  Average  Bayes average  \\\n",
       "0         105  30549  Pandemic  2008   106     7.59          7.487   \n",
       "\n",
       "   Users rated                        URL  \\\n",
       "0       108975  /boardgame/30549/pandemic   \n",
       "\n",
       "                                           Thumbnail  \n",
       "0  https://cf.geekdo-images.com/S3ybV1LAp-8SnHIXL...  "
      ]
     },
     "execution_count": 10,
     "metadata": {},
     "output_type": "execute_result"
    }
   ],
   "source": [
    "# Showing the old rank dataset\n",
    "dataset_ranks.head(1)"
   ]
  },
  {
   "cell_type": "code",
   "execution_count": 11,
   "metadata": {},
   "outputs": [
    {
     "data": {
      "text/html": [
       "<div>\n",
       "<style scoped>\n",
       "    .dataframe tbody tr th:only-of-type {\n",
       "        vertical-align: middle;\n",
       "    }\n",
       "\n",
       "    .dataframe tbody tr th {\n",
       "        vertical-align: top;\n",
       "    }\n",
       "\n",
       "    .dataframe thead th {\n",
       "        text-align: right;\n",
       "    }\n",
       "</style>\n",
       "<table border=\"1\" class=\"dataframe\">\n",
       "  <thead>\n",
       "    <tr style=\"text-align: right;\">\n",
       "      <th></th>\n",
       "      <th>Unnamed: 0</th>\n",
       "      <th>user</th>\n",
       "      <th>rating</th>\n",
       "      <th>comment</th>\n",
       "      <th>ID</th>\n",
       "      <th>name</th>\n",
       "    </tr>\n",
       "  </thead>\n",
       "  <tbody>\n",
       "    <tr>\n",
       "      <th>0</th>\n",
       "      <td>0</td>\n",
       "      <td>Torsten</td>\n",
       "      <td>10.0</td>\n",
       "      <td>NaN</td>\n",
       "      <td>30549</td>\n",
       "      <td>Pandemic</td>\n",
       "    </tr>\n",
       "  </tbody>\n",
       "</table>\n",
       "</div>"
      ],
      "text/plain": [
       "   Unnamed: 0     user  rating comment     ID      name\n",
       "0           0  Torsten    10.0     NaN  30549  Pandemic"
      ]
     },
     "execution_count": 11,
     "metadata": {},
     "output_type": "execute_result"
    }
   ],
   "source": [
    "dataset_reviews.head(1)"
   ]
  },
  {
   "cell_type": "code",
   "execution_count": 98,
   "metadata": {},
   "outputs": [
    {
     "data": {
      "text/html": [
       "<div>\n",
       "<style scoped>\n",
       "    .dataframe tbody tr th:only-of-type {\n",
       "        vertical-align: middle;\n",
       "    }\n",
       "\n",
       "    .dataframe tbody tr th {\n",
       "        vertical-align: top;\n",
       "    }\n",
       "\n",
       "    .dataframe thead th {\n",
       "        text-align: right;\n",
       "    }\n",
       "</style>\n",
       "<table border=\"1\" class=\"dataframe\">\n",
       "  <thead>\n",
       "    <tr style=\"text-align: right;\">\n",
       "      <th></th>\n",
       "      <th>ID</th>\n",
       "      <th>Name</th>\n",
       "      <th>BGG Rank</th>\n",
       "      <th>Average</th>\n",
       "      <th>Number of Ratings</th>\n",
       "    </tr>\n",
       "  </thead>\n",
       "  <tbody>\n",
       "    <tr>\n",
       "      <th>0</th>\n",
       "      <td>30549</td>\n",
       "      <td>Pandemic</td>\n",
       "      <td>106</td>\n",
       "      <td>7.59</td>\n",
       "      <td>108975</td>\n",
       "    </tr>\n",
       "    <tr>\n",
       "      <th>1</th>\n",
       "      <td>822</td>\n",
       "      <td>Carcassonne</td>\n",
       "      <td>190</td>\n",
       "      <td>7.42</td>\n",
       "      <td>108738</td>\n",
       "    </tr>\n",
       "    <tr>\n",
       "      <th>2</th>\n",
       "      <td>13</td>\n",
       "      <td>Catan</td>\n",
       "      <td>429</td>\n",
       "      <td>7.14</td>\n",
       "      <td>108024</td>\n",
       "    </tr>\n",
       "  </tbody>\n",
       "</table>\n",
       "</div>"
      ],
      "text/plain": [
       "      ID         Name  BGG Rank  Average  Number of Ratings\n",
       "0  30549     Pandemic       106     7.59             108975\n",
       "1    822  Carcassonne       190     7.42             108738\n",
       "2     13        Catan       429     7.14             108024"
      ]
     },
     "execution_count": 98,
     "metadata": {},
     "output_type": "execute_result"
    }
   ],
   "source": [
    "# Showing the cleaned rank dataset\n",
    "clean_rank_data.head(3)"
   ]
  },
  {
   "cell_type": "code",
   "execution_count": 12,
   "metadata": {},
   "outputs": [
    {
     "data": {
      "text/html": [
       "<div>\n",
       "<style scoped>\n",
       "    .dataframe tbody tr th:only-of-type {\n",
       "        vertical-align: middle;\n",
       "    }\n",
       "\n",
       "    .dataframe tbody tr th {\n",
       "        vertical-align: top;\n",
       "    }\n",
       "\n",
       "    .dataframe thead th {\n",
       "        text-align: right;\n",
       "    }\n",
       "</style>\n",
       "<table border=\"1\" class=\"dataframe\">\n",
       "  <thead>\n",
       "    <tr style=\"text-align: right;\">\n",
       "      <th></th>\n",
       "      <th>User</th>\n",
       "      <th>Rating</th>\n",
       "      <th>ID</th>\n",
       "      <th>Name_of_Game</th>\n",
       "    </tr>\n",
       "  </thead>\n",
       "  <tbody>\n",
       "    <tr>\n",
       "      <th>0</th>\n",
       "      <td>Torsten</td>\n",
       "      <td>10.0</td>\n",
       "      <td>30549</td>\n",
       "      <td>Pandemic</td>\n",
       "    </tr>\n",
       "    <tr>\n",
       "      <th>1</th>\n",
       "      <td>mitnachtKAUBO-I</td>\n",
       "      <td>10.0</td>\n",
       "      <td>30549</td>\n",
       "      <td>Pandemic</td>\n",
       "    </tr>\n",
       "    <tr>\n",
       "      <th>2</th>\n",
       "      <td>avlawn</td>\n",
       "      <td>10.0</td>\n",
       "      <td>30549</td>\n",
       "      <td>Pandemic</td>\n",
       "    </tr>\n",
       "  </tbody>\n",
       "</table>\n",
       "</div>"
      ],
      "text/plain": [
       "              User  Rating     ID Name_of_Game\n",
       "0          Torsten    10.0  30549     Pandemic\n",
       "1  mitnachtKAUBO-I    10.0  30549     Pandemic\n",
       "2           avlawn    10.0  30549     Pandemic"
      ]
     },
     "execution_count": 12,
     "metadata": {},
     "output_type": "execute_result"
    }
   ],
   "source": [
    "clean_review_data.head(3)\n"
   ]
  },
  {
   "cell_type": "markdown",
   "metadata": {},
   "source": [
    "The data is imported and cleaned in a separate module:"
   ]
  },
  {
   "cell_type": "code",
   "execution_count": null,
   "metadata": {},
   "outputs": [
    {
     "name": "stdout",
     "output_type": "stream",
     "text": [
      "c:\\Users\\Neri\\Downloads\\DSE\\DATA_MANAGEMENT\\PYTHON\\python_project(rankingboardgames)\\Source\\data\n"
     ]
    }
   ],
   "source": [
    "from modules.data_processing import clean_rank_data, clean_review_data"
   ]
  },
  {
   "cell_type": "markdown",
   "metadata": {},
   "source": [
    "### Data Manipulation"
   ]
  },
  {
   "cell_type": "markdown",
   "metadata": {},
   "source": [
    "Now it's time to manipulate the data.\n",
    "This section is split in two parts:\n",
    "the first shows the ranking _algorithm module, which includes the functions that handle the scores of the games.\n",
    "The second section shows  the dataset by review bracket module, which includes the class of datasets filtered by the desired number of reviews."
   ]
  },
  {
   "cell_type": "markdown",
   "metadata": {},
   "source": [
    "#### The Algorithms"
   ]
  },
  {
   "cell_type": "markdown",
   "metadata": {},
   "source": [
    "Our goal is to find new ways in which to rank the games. The first way presented is the Wilson Function, already included in the project prompt, but I had made it before realizing it, so it is included in the project. The second way is a more specific lower bound of the Bayesian Average."
   ]
  },
  {
   "cell_type": "markdown",
   "metadata": {},
   "source": [
    "##### The Wilson Function"
   ]
  },
  {
   "cell_type": "markdown",
   "metadata": {},
   "source": [
    "We are actually calculating the lower bound of the Wilson Function, which consists of taking the share of positive reviews for a single game and dividing it by the amount of total reviews. Therefore the first step is to find the total reviews a game's received, which is already a column in our rank dataset."
   ]
  },
  {
   "cell_type": "code",
   "execution_count": null,
   "metadata": {},
   "outputs": [
    {
     "data": {
      "text/plain": [
       "30810"
      ]
     },
     "execution_count": 11,
     "metadata": {},
     "output_type": "execute_result"
    }
   ],
   "source": [
    "def total_reviews(dataset_ranks, id):\n",
    "    '''Find the total number of reviews of a single game given its unique ID'''\n",
    "    total_reviews = dataset_ranks['Number of Ratings'] # locates column in dataframe where the total number of reviews are\n",
    "    total_reviews_ID = total_reviews.loc[(dataset_ranks['ID']== id)] # filters the dataframe based on the input id, returns a filtered dataframe\n",
    "    return int(total_reviews_ID.iloc[0]) # returns the item in the first position of the dataframe input\n",
    "\n",
    "total_reviews(clean_rank_data, 171) # the ID for Chess"
   ]
  },
  {
   "cell_type": "code",
   "execution_count": null,
   "metadata": {},
   "outputs": [
    {
     "data": {
      "text/html": [
       "<div>\n",
       "<style scoped>\n",
       "    .dataframe tbody tr th:only-of-type {\n",
       "        vertical-align: middle;\n",
       "    }\n",
       "\n",
       "    .dataframe tbody tr th {\n",
       "        vertical-align: top;\n",
       "    }\n",
       "\n",
       "    .dataframe thead th {\n",
       "        text-align: right;\n",
       "    }\n",
       "</style>\n",
       "<table border=\"1\" class=\"dataframe\">\n",
       "  <thead>\n",
       "    <tr style=\"text-align: right;\">\n",
       "      <th></th>\n",
       "      <th>ID</th>\n",
       "      <th>Name</th>\n",
       "      <th>Rank</th>\n",
       "      <th>Average</th>\n",
       "      <th>Number of Ratings</th>\n",
       "    </tr>\n",
       "  </thead>\n",
       "  <tbody>\n",
       "    <tr>\n",
       "      <th>67</th>\n",
       "      <td>171</td>\n",
       "      <td>Chess</td>\n",
       "      <td>430</td>\n",
       "      <td>7.15</td>\n",
       "      <td>30810</td>\n",
       "    </tr>\n",
       "  </tbody>\n",
       "</table>\n",
       "</div>"
      ],
      "text/plain": [
       "     ID   Name  Rank  Average  Number of Ratings\n",
       "67  171  Chess   430     7.15              30810"
      ]
     },
     "execution_count": 10,
     "metadata": {},
     "output_type": "execute_result"
    }
   ],
   "source": [
    "# We can see Chess indeed has 30810 total ratings\n",
    "clean_rank_data.loc[(clean_rank_data['Name']== 'Chess')]"
   ]
  },
  {
   "cell_type": "markdown",
   "metadata": {},
   "source": [
    "Once we have the total number of reviews we have to find the number of positive reviews, which implies determining what a positive review is, and then counting each instance from the reviews dataset for each desired game."
   ]
  },
  {
   "cell_type": "code",
   "execution_count": null,
   "metadata": {},
   "outputs": [
    {
     "data": {
      "text/plain": [
       "25543"
      ]
     },
     "execution_count": 15,
     "metadata": {},
     "output_type": "execute_result"
    }
   ],
   "source": [
    "def count_positive_reviews_per_game(dataset_reviews, id):\n",
    "        '''returns the positive reviews for a game, a positive review is a review with a rating of at least a 6/10'''\n",
    "        df_positive_reviews = dataset_reviews.loc[(dataset_reviews[\"ID\"] == id) & (dataset_reviews['Rating'] >= 6.0)] \n",
    "        # Again the function filters for a specific review and determines that a positive rating is a rating that is at least 6/10.\n",
    "        \n",
    "        positive_reviews_count = df_positive_reviews['Rating'].count() \n",
    "        # the variable counts every element in the filtered dataframe\n",
    "        \n",
    "        return int(positive_reviews_count)\n",
    "count_positive_reviews_per_game(clean_review_data, 171) # Chess has 25,543 positive reviews (rated 6 and above)"
   ]
  },
  {
   "cell_type": "markdown",
   "metadata": {},
   "source": [
    "Then we calculate the share of positive reviews for chess:"
   ]
  },
  {
   "cell_type": "code",
   "execution_count": null,
   "metadata": {},
   "outputs": [
    {
     "data": {
      "text/plain": [
       "0.829"
      ]
     },
     "execution_count": 16,
     "metadata": {},
     "output_type": "execute_result"
    }
   ],
   "source": [
    "def share_of_positive_reviews_per_game(dataset_ranks, dataset_reviews, id):\n",
    "        '''Ratio of positive review per total reviews for a single game'''\n",
    "        share_of_pos_reviews_per_game = float(count_positive_reviews_per_game(dataset_reviews, id) / total_reviews(dataset_ranks, id))\n",
    "        return round(share_of_pos_reviews_per_game, 4) # rounding the answer to 4 decimals\n",
    "share_of_positive_reviews_per_game(clean_rank_data, clean_review_data, 171)"
   ]
  },
  {
   "cell_type": "markdown",
   "metadata": {},
   "source": [
    "We are finally ready to calculate our Wilson Lower Bound taking the formula from the Evan Miller website. The formula consists in taking a confidence interval in which the 'true' accurate rating is based on the share of positive reviews. \n",
    "In order to compute it we first need to find the quantile of a normal distribution "
   ]
  },
  {
   "cell_type": "code",
   "execution_count": null,
   "metadata": {},
   "outputs": [
    {
     "data": {
      "text/plain": [
       "0.82"
      ]
     },
     "execution_count": 21,
     "metadata": {},
     "output_type": "execute_result"
    }
   ],
   "source": [
    "import numpy as np\n",
    "from scipy.stats import norm\n",
    "# Function to calculate any confidence level\n",
    "def confidence_level(confidence):\n",
    "    '''Returns left z score for a confidence level.'''\n",
    "    cl = norm.ppf(1- (1 - confidence)/2) \n",
    "    return cl\n",
    "\n",
    "# Wilson Function, default at a 95% confidence level\n",
    "def wilson_function(id, dataset_ranks, dataset_reviews, confidence = .95):\n",
    "    '''Claculates the lower bound for the share of positive reviews in a game'''\n",
    "    z = confidence_level(confidence)\n",
    "    n = total_reviews(dataset_ranks, id)\n",
    "    p_hat = 1 * share_of_positive_reviews_per_game(dataset_ranks, dataset_reviews, id) \n",
    "        \n",
    "    wilson_score = round(float((p_hat + z**2/(2*n) - z*np.sqrt((p_hat*(1 - p_hat) + z**2/(4*n))/n)) / (1 + (z**2)/n)), 2)\n",
    "        \n",
    "    return wilson_score\n",
    "    \n",
    "wilson_function(171, clean_rank_data, clean_review_data)"
   ]
  },
  {
   "cell_type": "markdown",
   "metadata": {},
   "source": [
    "##### The New Bayesian Average"
   ]
  },
  {
   "cell_type": "markdown",
   "metadata": {},
   "source": [
    "We move on the second algorithm, since the Wilson Score is imprecise, besides it being in the prompt. That is, the 'New' Bayesian Average. New because it's not the classic Bayesian Average where you weigh the mean of a specific game against the mean of all games dividing by the total number of ratings.\n",
    "The method implemented in this project first finds how many of each rating a game got (how many 1/10s, 2/10s...). Each rating is then weighted by its score and how many times it was given. Finally it subtracts the uncertainty adjustment, the variability of the ratings, which penalizes the score if the game wasn't highly scored or if the game has polarized reviews. "
   ]
  },
  {
   "cell_type": "code",
   "execution_count": null,
   "metadata": {},
   "outputs": [
    {
     "data": {
      "text/plain": [
       "[105, 239, 577, 1367, 3016, 6229, 7197, 4867, 2879, 4371]"
      ]
     },
     "execution_count": 22,
     "metadata": {},
     "output_type": "execute_result"
    }
   ],
   "source": [
    "# First we have to find how many ratings of each kind each game has:\n",
    "\n",
    "def array_scores(id, dataset_reviews):\n",
    "    '''Returns the number of times a gave received a certain score (how many 1/10s, how many 2/10s...)'''\n",
    "    list_of_scores = []\n",
    "    for i in range(1,11):\n",
    "        how_many_i_reviews = dataset_reviews.loc[(dataset_reviews['ID'] == id) & (dataset_reviews['Rating'].between(i, i + 1, inclusive='left'))]\n",
    "        this_many_i_reviews = how_many_i_reviews['Rating'].count()\n",
    "            \n",
    "        list_of_scores.append(int(this_many_i_reviews))\n",
    "            \n",
    "    return list_of_scores\n",
    "\n",
    "array_scores(171, clean_review_data)"
   ]
  },
  {
   "cell_type": "code",
   "execution_count": 26,
   "metadata": {},
   "outputs": [
    {
     "data": {
      "text/plain": [
       "7.08"
      ]
     },
     "execution_count": 26,
     "metadata": {},
     "output_type": "execute_result"
    }
   ],
   "source": [
    "# Bayesian lower bound function\n",
    "def bayesian_average(id, dataset_ranks, dataset_reviews, confidence = .95):\n",
    "    '''Returns the lower bound of a Bayesian average for the times a game was reviewed and the amount of times a particular score was given'''\n",
    "    z = confidence_level(confidence)\n",
    "    n = array_scores(id, dataset_reviews)\n",
    "    N = sum(n)\n",
    "    first_part = 0\n",
    "    second_part = 0\n",
    "    for k, n_k in enumerate(n):\n",
    "        first_part += (k+1)*(n_k+1)/(N + 10)\n",
    "        second_part += (k+1)*(k+1)*(n_k+1)/(N+10)\n",
    "    score = first_part - z*np.sqrt((second_part - first_part * first_part)/(N+11))\n",
    "        \n",
    "    return round(float(score), 2)    \n",
    "bayesian_average(171, clean_rank_data, clean_review_data)"
   ]
  },
  {
   "cell_type": "markdown",
   "metadata": {},
   "source": [
    "Each of these functions is contained in the ranking_algorithms module and is called as:"
   ]
  },
  {
   "cell_type": "code",
   "execution_count": null,
   "metadata": {},
   "outputs": [],
   "source": [
    "import modules.ranking_algorithms as ra"
   ]
  },
  {
   "cell_type": "markdown",
   "metadata": {},
   "source": [
    "#### The Filtered Datasets"
   ]
  },
  {
   "cell_type": "markdown",
   "metadata": {},
   "source": [
    "The next logical step in the process would be to run the Wilson Lower Bound function or the New Bayesian Average over the two datasets and sort based on the returning values.\n",
    "Unfortunately, the dataframes are quite large: the ranks dataset has 21k+ games, while the reviews dataset has almost 19 million individual user review. Computationally the calculations would take hours if we had to run through both databases.\n",
    "Therefore, the project introduces a further ranking parameter which consists of filtering the datasets by specific number of reviews. This is dictated by the computational constraint of my computer, but that this also aides the general cause. Indeed, it's difficult to compare, by score, a game that was reviewed over 100k times and a game that was reviewed 'only' a 1000 times or even just 30 or 40 times.\n",
    "Thus, in this way we have a more in depth look at how games that have similar degrees of popularity stack up next to each other in different ways."
   ]
  },
  {
   "cell_type": "markdown",
   "metadata": {},
   "source": [
    "##### The filtered dataset class"
   ]
  },
  {
   "cell_type": "code",
   "execution_count": null,
   "metadata": {},
   "outputs": [],
   "source": [
    "class dataset_by_review_bracket():\n",
    "\n",
    "    def __init__(self, name, rank_database, reviews_database, algorithm, operator, num_of_reviews1):\n",
    "        self.name = name\n",
    "        self.rank_database = rank_database\n",
    "        self.reviews_database = reviews_database\n",
    "        self.algorithm = algorithm # what kind of score do you want to sort by?\n",
    "        self.operator = operator\n",
    "        self.num_of_reviews1 = num_of_reviews1 \n",
    "        \n",
    "# the operator and num_of_reviews answer the question how many games should your dataframe have? How many reviews should your games have?\n",
    "    \n",
    "    def add_column_to_df_filtered_by_reviews(self, title_of_column = 'New Column', num_upperbound_reviews = None):\n",
    "        \n",
    "        ''' The method filters two dfs: the rank df by the desired number of reviews, and then the review df based on the items in the new rank df'''\n",
    "        # filtering the rank database based on a preferred number/range of reviews\n",
    "    \n",
    "        if self.operator == 'equal':\n",
    "            filtered_rank_data = self.rank_database[self.rank_database['Number of Ratings'] == self.num_of_reviews1]\n",
    "        elif self.operator == 'greater':\n",
    "            filtered_rank_data = self.rank_database[self.rank_database['Number of Ratings'] > self.num_of_reviews1]\n",
    "        elif self.operator == 'between':\n",
    "            filtered_rank_data = self.rank_database[self.rank_database['Number of Ratings'].between(self.num_of_reviews1, num_upperbound_reviews)]\n",
    "        else:\n",
    "            filtered_rank_data = self.rank_database[self.rank_database['Number of Ratings'] < self.num_of_reviews1]\n",
    "         \n",
    "        # filtering the review data based on the filtered rank database\n",
    "        desired_ids = filtered_rank_data['ID']\n",
    "        filtered_review_data =  self.reviews_database[self.reviews_database['ID'].isin(desired_ids)]\n",
    "        \n",
    "        # create an empty list (our future column)\n",
    "        if title_of_column == 'Average': # in the case one wanted to sort by the simple arithmetic mean without using another algorithm\n",
    "            return filtered_rank_data\n",
    "        else:\n",
    "            new_column = []\n",
    "            # for each row in a dataset I have to find its ID and apply the ranking function over it\n",
    "            for id in filtered_review_data['ID'].unique():\n",
    "                new_column.append(self.algorithm(id, self.rank_database, self.reviews_database))\n",
    "                \n",
    "            filtered_rank_data.insert(0, title_of_column, new_column)\n",
    "        \n",
    "        return filtered_rank_data\n",
    "    "
   ]
  },
  {
   "cell_type": "markdown",
   "metadata": {},
   "source": [
    "This is its own module and it is called as follows:"
   ]
  },
  {
   "cell_type": "code",
   "execution_count": 99,
   "metadata": {},
   "outputs": [],
   "source": [
    "import modules.dataset_by_review_bracket as rb"
   ]
  },
  {
   "cell_type": "markdown",
   "metadata": {},
   "source": [
    "This demonstrates the filtered dataset based on the top reviewed games (60,000+ reviews) ranked according to the New Bayesian Average:"
   ]
  },
  {
   "cell_type": "code",
   "execution_count": 30,
   "metadata": {},
   "outputs": [
    {
     "data": {
      "text/html": [
       "<div>\n",
       "<style scoped>\n",
       "    .dataframe tbody tr th:only-of-type {\n",
       "        vertical-align: middle;\n",
       "    }\n",
       "\n",
       "    .dataframe tbody tr th {\n",
       "        vertical-align: top;\n",
       "    }\n",
       "\n",
       "    .dataframe thead th {\n",
       "        text-align: right;\n",
       "    }\n",
       "</style>\n",
       "<table border=\"1\" class=\"dataframe\">\n",
       "  <thead>\n",
       "    <tr style=\"text-align: right;\">\n",
       "      <th></th>\n",
       "      <th>New Bayesian Average</th>\n",
       "      <th>ID</th>\n",
       "      <th>Name</th>\n",
       "      <th>Rank</th>\n",
       "      <th>Average</th>\n",
       "      <th>Number of Ratings</th>\n",
       "    </tr>\n",
       "  </thead>\n",
       "  <tbody>\n",
       "    <tr>\n",
       "      <th>7</th>\n",
       "      <td>8.32</td>\n",
       "      <td>167791</td>\n",
       "      <td>Terraforming Mars</td>\n",
       "      <td>4</td>\n",
       "      <td>8.42</td>\n",
       "      <td>74216</td>\n",
       "    </tr>\n",
       "    <tr>\n",
       "      <th>12</th>\n",
       "      <td>8.12</td>\n",
       "      <td>169786</td>\n",
       "      <td>Scythe</td>\n",
       "      <td>14</td>\n",
       "      <td>8.22</td>\n",
       "      <td>64569</td>\n",
       "    </tr>\n",
       "    <tr>\n",
       "      <th>8</th>\n",
       "      <td>8.01</td>\n",
       "      <td>173346</td>\n",
       "      <td>7 Wonders Duel</td>\n",
       "      <td>16</td>\n",
       "      <td>8.11</td>\n",
       "      <td>69472</td>\n",
       "    </tr>\n",
       "    <tr>\n",
       "      <th>10</th>\n",
       "      <td>7.87</td>\n",
       "      <td>3076</td>\n",
       "      <td>Puerto Rico</td>\n",
       "      <td>31</td>\n",
       "      <td>7.97</td>\n",
       "      <td>65443</td>\n",
       "    </tr>\n",
       "    <tr>\n",
       "      <th>9</th>\n",
       "      <td>7.83</td>\n",
       "      <td>31260</td>\n",
       "      <td>Agricola</td>\n",
       "      <td>36</td>\n",
       "      <td>7.93</td>\n",
       "      <td>66093</td>\n",
       "    </tr>\n",
       "    <tr>\n",
       "      <th>15</th>\n",
       "      <td>7.70</td>\n",
       "      <td>230802</td>\n",
       "      <td>Azul</td>\n",
       "      <td>58</td>\n",
       "      <td>7.80</td>\n",
       "      <td>62802</td>\n",
       "    </tr>\n",
       "    <tr>\n",
       "      <th>3</th>\n",
       "      <td>7.64</td>\n",
       "      <td>68448</td>\n",
       "      <td>7 Wonders</td>\n",
       "      <td>73</td>\n",
       "      <td>7.74</td>\n",
       "      <td>89982</td>\n",
       "    </tr>\n",
       "    <tr>\n",
       "      <th>4</th>\n",
       "      <td>7.52</td>\n",
       "      <td>36218</td>\n",
       "      <td>Dominion</td>\n",
       "      <td>104</td>\n",
       "      <td>7.61</td>\n",
       "      <td>81561</td>\n",
       "    </tr>\n",
       "    <tr>\n",
       "      <th>0</th>\n",
       "      <td>7.51</td>\n",
       "      <td>30549</td>\n",
       "      <td>Pandemic</td>\n",
       "      <td>106</td>\n",
       "      <td>7.59</td>\n",
       "      <td>108975</td>\n",
       "    </tr>\n",
       "    <tr>\n",
       "      <th>6</th>\n",
       "      <td>7.51</td>\n",
       "      <td>178900</td>\n",
       "      <td>Codenames</td>\n",
       "      <td>101</td>\n",
       "      <td>7.60</td>\n",
       "      <td>74419</td>\n",
       "    </tr>\n",
       "    <tr>\n",
       "      <th>14</th>\n",
       "      <td>7.45</td>\n",
       "      <td>14996</td>\n",
       "      <td>Ticket to Ride: Europe</td>\n",
       "      <td>131</td>\n",
       "      <td>7.54</td>\n",
       "      <td>63264</td>\n",
       "    </tr>\n",
       "    <tr>\n",
       "      <th>1</th>\n",
       "      <td>7.34</td>\n",
       "      <td>822</td>\n",
       "      <td>Carcassonne</td>\n",
       "      <td>190</td>\n",
       "      <td>7.42</td>\n",
       "      <td>108738</td>\n",
       "    </tr>\n",
       "    <tr>\n",
       "      <th>11</th>\n",
       "      <td>7.34</td>\n",
       "      <td>148228</td>\n",
       "      <td>Splendor</td>\n",
       "      <td>183</td>\n",
       "      <td>7.44</td>\n",
       "      <td>64698</td>\n",
       "    </tr>\n",
       "    <tr>\n",
       "      <th>5</th>\n",
       "      <td>7.32</td>\n",
       "      <td>9209</td>\n",
       "      <td>Ticket to Ride</td>\n",
       "      <td>192</td>\n",
       "      <td>7.41</td>\n",
       "      <td>76171</td>\n",
       "    </tr>\n",
       "    <tr>\n",
       "      <th>13</th>\n",
       "      <td>7.15</td>\n",
       "      <td>40692</td>\n",
       "      <td>Small World</td>\n",
       "      <td>280</td>\n",
       "      <td>7.25</td>\n",
       "      <td>64559</td>\n",
       "    </tr>\n",
       "    <tr>\n",
       "      <th>16</th>\n",
       "      <td>7.07</td>\n",
       "      <td>70323</td>\n",
       "      <td>King of Tokyo</td>\n",
       "      <td>345</td>\n",
       "      <td>7.17</td>\n",
       "      <td>61099</td>\n",
       "    </tr>\n",
       "    <tr>\n",
       "      <th>2</th>\n",
       "      <td>7.06</td>\n",
       "      <td>13</td>\n",
       "      <td>Catan</td>\n",
       "      <td>429</td>\n",
       "      <td>7.14</td>\n",
       "      <td>108024</td>\n",
       "    </tr>\n",
       "  </tbody>\n",
       "</table>\n",
       "</div>"
      ],
      "text/plain": [
       "    New Bayesian Average      ID                    Name  Rank  Average  \\\n",
       "7                   8.32  167791       Terraforming Mars     4     8.42   \n",
       "12                  8.12  169786                  Scythe    14     8.22   \n",
       "8                   8.01  173346          7 Wonders Duel    16     8.11   \n",
       "10                  7.87    3076             Puerto Rico    31     7.97   \n",
       "9                   7.83   31260                Agricola    36     7.93   \n",
       "15                  7.70  230802                    Azul    58     7.80   \n",
       "3                   7.64   68448               7 Wonders    73     7.74   \n",
       "4                   7.52   36218                Dominion   104     7.61   \n",
       "0                   7.51   30549                Pandemic   106     7.59   \n",
       "6                   7.51  178900               Codenames   101     7.60   \n",
       "14                  7.45   14996  Ticket to Ride: Europe   131     7.54   \n",
       "1                   7.34     822             Carcassonne   190     7.42   \n",
       "11                  7.34  148228                Splendor   183     7.44   \n",
       "5                   7.32    9209          Ticket to Ride   192     7.41   \n",
       "13                  7.15   40692             Small World   280     7.25   \n",
       "16                  7.07   70323           King of Tokyo   345     7.17   \n",
       "2                   7.06      13                   Catan   429     7.14   \n",
       "\n",
       "    Number of Ratings  \n",
       "7               74216  \n",
       "12              64569  \n",
       "8               69472  \n",
       "10              65443  \n",
       "9               66093  \n",
       "15              62802  \n",
       "3               89982  \n",
       "4               81561  \n",
       "0              108975  \n",
       "6               74419  \n",
       "14              63264  \n",
       "1              108738  \n",
       "11              64698  \n",
       "5               76171  \n",
       "13              64559  \n",
       "16              61099  \n",
       "2              108024  "
      ]
     },
     "execution_count": 30,
     "metadata": {},
     "output_type": "execute_result"
    }
   ],
   "source": [
    "name_df1 = rb.dataset_by_review_bracket('name_df', clean_rank_data, clean_review_data, ra.bayesian_average, 'greater', 60000)    \n",
    "name_df2 = name_df1.add_column_to_df_filtered_by_reviews('New Bayesian Average')\n",
    "name_df2 = name_df2.sort_values('New Bayesian Average', ascending = False)\n",
    "name_df2"
   ]
  },
  {
   "cell_type": "markdown",
   "metadata": {},
   "source": [
    "##### The graphs"
   ]
  },
  {
   "cell_type": "markdown",
   "metadata": {},
   "source": [
    "To visually demonstrate the rankings, the project also implemented a graph class: "
   ]
  },
  {
   "cell_type": "code",
   "execution_count": 32,
   "metadata": {},
   "outputs": [],
   "source": [
    "import matplotlib.pyplot as plt\n",
    "import numpy as np\n",
    "\n",
    "class graph():\n",
    "    def __init__(self, name, dataset, sortby_variable, ascending):\n",
    "        self.name = name\n",
    "        self.dataset = dataset\n",
    "        self.sortby_variable = sortby_variable # Column by which we want our dataset sorted by\n",
    "        self.ascending = ascending\n",
    "        \n",
    "    \n",
    "    def horizontal_bar_graph(self, graph_title, top_color = 'red', y_labels = 'Name' ):\n",
    "        '''Method plots a top 10 Horizontal Bar Plot'''\n",
    "    # sorting the dataset criteria\n",
    "        if self.ascending.lower() == 'n':\n",
    "              ascending_order = False\n",
    "        elif self.ascending.lower() == 'y':\n",
    "            ascending_order = True\n",
    "        else:\n",
    "            raise ValueError(\"Unacceptable Value for 'ascending'. Use 'y' for ascending or 'n' for descending.\")\n",
    "        \n",
    "        sorted_reviews = self.dataset.sort_values(self.sortby_variable, ascending = ascending_order)\n",
    "        sorting_by_variable = sorted_reviews[self.sortby_variable].iloc[0:10] # only takes the first 10 graphs out of the ones shown.\n",
    "        displayed_titles = sorted_reviews[y_labels].iloc[0:10]\n",
    "        \n",
    "        colors = [top_color,'blue','blue','blue','blue','blue','blue','blue','blue','blue' ]\n",
    "        pos = np.arange(len(displayed_titles))\n",
    "        \n",
    "        plt.style.use('_mpl-gallery')\n",
    "        # plot\n",
    "        fig, ax = plt.subplots() \n",
    "\n",
    "        ax.barh(pos, sorting_by_variable, align = 'center', edgecolor = 'black', color = colors )\n",
    "        ax.set_yticks(pos, labels = displayed_titles)\n",
    "        ax.invert_yaxis()\n",
    "        ax.set_xlabel(self.sortby_variable)\n",
    "        ax.set_title(graph_title)\n",
    "        \n",
    "        return plt.show()"
   ]
  },
  {
   "cell_type": "markdown",
   "metadata": {},
   "source": [
    "This belongs to the graph module which is imported as following:"
   ]
  },
  {
   "cell_type": "code",
   "execution_count": null,
   "metadata": {},
   "outputs": [],
   "source": [
    "import Source.modules.graph as gr"
   ]
  },
  {
   "cell_type": "markdown",
   "metadata": {},
   "source": [
    "The graph is as follows:"
   ]
  },
  {
   "cell_type": "code",
   "execution_count": 35,
   "metadata": {},
   "outputs": [
    {
     "data": {
      "image/png": "[encoded data removed]",
      "text/plain": [
       "<Figure size 200x200 with 1 Axes>"
      ]
     },
     "metadata": {},
     "output_type": "display_data"
    }
   ],
   "source": [
    "graph_setup = gr.graph('name_df', name_df2, 'New Bayesian Average', 'n')\n",
    "graph_of_alg = graph_setup.horizontal_bar_graph('Top-10 games based on New Bayesian Avg (60k+ reviews)')"
   ]
  },
  {
   "cell_type": "markdown",
   "metadata": {},
   "source": [
    "Against the standard arithmetic mean for the same amount of reviews:"
   ]
  },
  {
   "cell_type": "code",
   "execution_count": 41,
   "metadata": {},
   "outputs": [
    {
     "data": {
      "text/html": [
       "<div>\n",
       "<style scoped>\n",
       "    .dataframe tbody tr th:only-of-type {\n",
       "        vertical-align: middle;\n",
       "    }\n",
       "\n",
       "    .dataframe tbody tr th {\n",
       "        vertical-align: top;\n",
       "    }\n",
       "\n",
       "    .dataframe thead th {\n",
       "        text-align: right;\n",
       "    }\n",
       "</style>\n",
       "<table border=\"1\" class=\"dataframe\">\n",
       "  <thead>\n",
       "    <tr style=\"text-align: right;\">\n",
       "      <th></th>\n",
       "      <th>ID</th>\n",
       "      <th>Name</th>\n",
       "      <th>Rank</th>\n",
       "      <th>Average</th>\n",
       "      <th>Number of Ratings</th>\n",
       "    </tr>\n",
       "  </thead>\n",
       "  <tbody>\n",
       "    <tr>\n",
       "      <th>7</th>\n",
       "      <td>167791</td>\n",
       "      <td>Terraforming Mars</td>\n",
       "      <td>4</td>\n",
       "      <td>8.42</td>\n",
       "      <td>74216</td>\n",
       "    </tr>\n",
       "    <tr>\n",
       "      <th>12</th>\n",
       "      <td>169786</td>\n",
       "      <td>Scythe</td>\n",
       "      <td>14</td>\n",
       "      <td>8.22</td>\n",
       "      <td>64569</td>\n",
       "    </tr>\n",
       "    <tr>\n",
       "      <th>8</th>\n",
       "      <td>173346</td>\n",
       "      <td>7 Wonders Duel</td>\n",
       "      <td>16</td>\n",
       "      <td>8.11</td>\n",
       "      <td>69472</td>\n",
       "    </tr>\n",
       "    <tr>\n",
       "      <th>10</th>\n",
       "      <td>3076</td>\n",
       "      <td>Puerto Rico</td>\n",
       "      <td>31</td>\n",
       "      <td>7.97</td>\n",
       "      <td>65443</td>\n",
       "    </tr>\n",
       "    <tr>\n",
       "      <th>9</th>\n",
       "      <td>31260</td>\n",
       "      <td>Agricola</td>\n",
       "      <td>36</td>\n",
       "      <td>7.93</td>\n",
       "      <td>66093</td>\n",
       "    </tr>\n",
       "    <tr>\n",
       "      <th>15</th>\n",
       "      <td>230802</td>\n",
       "      <td>Azul</td>\n",
       "      <td>58</td>\n",
       "      <td>7.80</td>\n",
       "      <td>62802</td>\n",
       "    </tr>\n",
       "    <tr>\n",
       "      <th>3</th>\n",
       "      <td>68448</td>\n",
       "      <td>7 Wonders</td>\n",
       "      <td>73</td>\n",
       "      <td>7.74</td>\n",
       "      <td>89982</td>\n",
       "    </tr>\n",
       "    <tr>\n",
       "      <th>4</th>\n",
       "      <td>36218</td>\n",
       "      <td>Dominion</td>\n",
       "      <td>104</td>\n",
       "      <td>7.61</td>\n",
       "      <td>81561</td>\n",
       "    </tr>\n",
       "    <tr>\n",
       "      <th>6</th>\n",
       "      <td>178900</td>\n",
       "      <td>Codenames</td>\n",
       "      <td>101</td>\n",
       "      <td>7.60</td>\n",
       "      <td>74419</td>\n",
       "    </tr>\n",
       "    <tr>\n",
       "      <th>0</th>\n",
       "      <td>30549</td>\n",
       "      <td>Pandemic</td>\n",
       "      <td>106</td>\n",
       "      <td>7.59</td>\n",
       "      <td>108975</td>\n",
       "    </tr>\n",
       "    <tr>\n",
       "      <th>14</th>\n",
       "      <td>14996</td>\n",
       "      <td>Ticket to Ride: Europe</td>\n",
       "      <td>131</td>\n",
       "      <td>7.54</td>\n",
       "      <td>63264</td>\n",
       "    </tr>\n",
       "    <tr>\n",
       "      <th>11</th>\n",
       "      <td>148228</td>\n",
       "      <td>Splendor</td>\n",
       "      <td>183</td>\n",
       "      <td>7.44</td>\n",
       "      <td>64698</td>\n",
       "    </tr>\n",
       "    <tr>\n",
       "      <th>1</th>\n",
       "      <td>822</td>\n",
       "      <td>Carcassonne</td>\n",
       "      <td>190</td>\n",
       "      <td>7.42</td>\n",
       "      <td>108738</td>\n",
       "    </tr>\n",
       "    <tr>\n",
       "      <th>5</th>\n",
       "      <td>9209</td>\n",
       "      <td>Ticket to Ride</td>\n",
       "      <td>192</td>\n",
       "      <td>7.41</td>\n",
       "      <td>76171</td>\n",
       "    </tr>\n",
       "    <tr>\n",
       "      <th>13</th>\n",
       "      <td>40692</td>\n",
       "      <td>Small World</td>\n",
       "      <td>280</td>\n",
       "      <td>7.25</td>\n",
       "      <td>64559</td>\n",
       "    </tr>\n",
       "    <tr>\n",
       "      <th>16</th>\n",
       "      <td>70323</td>\n",
       "      <td>King of Tokyo</td>\n",
       "      <td>345</td>\n",
       "      <td>7.17</td>\n",
       "      <td>61099</td>\n",
       "    </tr>\n",
       "    <tr>\n",
       "      <th>2</th>\n",
       "      <td>13</td>\n",
       "      <td>Catan</td>\n",
       "      <td>429</td>\n",
       "      <td>7.14</td>\n",
       "      <td>108024</td>\n",
       "    </tr>\n",
       "  </tbody>\n",
       "</table>\n",
       "</div>"
      ],
      "text/plain": [
       "        ID                    Name  Rank  Average  Number of Ratings\n",
       "7   167791       Terraforming Mars     4     8.42              74216\n",
       "12  169786                  Scythe    14     8.22              64569\n",
       "8   173346          7 Wonders Duel    16     8.11              69472\n",
       "10    3076             Puerto Rico    31     7.97              65443\n",
       "9    31260                Agricola    36     7.93              66093\n",
       "15  230802                    Azul    58     7.80              62802\n",
       "3    68448               7 Wonders    73     7.74              89982\n",
       "4    36218                Dominion   104     7.61              81561\n",
       "6   178900               Codenames   101     7.60              74419\n",
       "0    30549                Pandemic   106     7.59             108975\n",
       "14   14996  Ticket to Ride: Europe   131     7.54              63264\n",
       "11  148228                Splendor   183     7.44              64698\n",
       "1      822             Carcassonne   190     7.42             108738\n",
       "5     9209          Ticket to Ride   192     7.41              76171\n",
       "13   40692             Small World   280     7.25              64559\n",
       "16   70323           King of Tokyo   345     7.17              61099\n",
       "2       13                   Catan   429     7.14             108024"
      ]
     },
     "execution_count": 41,
     "metadata": {},
     "output_type": "execute_result"
    }
   ],
   "source": [
    "name_df1 = rb.dataset_by_review_bracket('name_df', clean_rank_data, clean_review_data, None , 'greater', 60000)\n",
    "name_df2 =  name_df1.add_column_to_df_filtered_by_reviews('Average', 'n')\n",
    "name_df2 = name_df2.sort_values('Average', ascending = False)\n",
    "name_df2"
   ]
  },
  {
   "cell_type": "code",
   "execution_count": null,
   "metadata": {},
   "outputs": [
    {
     "data": {
      "image/png": "[encoded data removed]",
      "text/plain": [
       "<Figure size 200x200 with 1 Axes>"
      ]
     },
     "metadata": {},
     "output_type": "display_data"
    }
   ],
   "source": [
    "graph_setup = gr.graph('name_df', name_df2, 'Average', 'n')\n",
    "graph_of_alg = graph_setup.horizontal_bar_graph('Top-10 games based on Arithmetic Mean (60k+ reviews)', 'orange')"
   ]
  },
  {
   "cell_type": "markdown",
   "metadata": {},
   "source": [
    "#### Results"
   ]
  },
  {
   "cell_type": "markdown",
   "metadata": {},
   "source": [
    "Regarding the differences between a ranking based on the arithmetic mean and the algorithms that the project produces there are a few. "
   ]
  },
  {
   "cell_type": "markdown",
   "metadata": {},
   "source": [
    "As shown in the two graphs above, at the high levels some games are ranked in a slightly different way than others but overall there is not a huge difference as the number of games with a lot of reviews are few."
   ]
  },
  {
   "cell_type": "markdown",
   "metadata": {},
   "source": [
    "When the reviews become lower that is when more differences start arising, as a function such as the Bayesian Average puts much more emphasis on how many positive reviews a game's had compared to the average, so the lists are completely different and the algorithms are much more reliable:"
   ]
  },
  {
   "cell_type": "code",
   "execution_count": 68,
   "metadata": {},
   "outputs": [
    {
     "data": {
      "text/html": [
       "<div>\n",
       "<style scoped>\n",
       "    .dataframe tbody tr th:only-of-type {\n",
       "        vertical-align: middle;\n",
       "    }\n",
       "\n",
       "    .dataframe tbody tr th {\n",
       "        vertical-align: top;\n",
       "    }\n",
       "\n",
       "    .dataframe thead th {\n",
       "        text-align: right;\n",
       "    }\n",
       "</style>\n",
       "<table border=\"1\" class=\"dataframe\">\n",
       "  <thead>\n",
       "    <tr style=\"text-align: right;\">\n",
       "      <th></th>\n",
       "      <th>New Bayesian Average</th>\n",
       "      <th>ID</th>\n",
       "      <th>Name</th>\n",
       "      <th>Rank</th>\n",
       "      <th>Average</th>\n",
       "      <th>Number of Ratings</th>\n",
       "    </tr>\n",
       "  </thead>\n",
       "  <tbody>\n",
       "    <tr>\n",
       "      <th>2735</th>\n",
       "      <td>7.93</td>\n",
       "      <td>3086</td>\n",
       "      <td>The Omega Virus</td>\n",
       "      <td>3829</td>\n",
       "      <td>6.41</td>\n",
       "      <td>1076</td>\n",
       "    </tr>\n",
       "    <tr>\n",
       "      <th>2758</th>\n",
       "      <td>7.88</td>\n",
       "      <td>165662</td>\n",
       "      <td>Haru Ichiban</td>\n",
       "      <td>2919</td>\n",
       "      <td>6.65</td>\n",
       "      <td>1061</td>\n",
       "    </tr>\n",
       "    <tr>\n",
       "      <th>2814</th>\n",
       "      <td>7.86</td>\n",
       "      <td>16497</td>\n",
       "      <td>Rat Hot</td>\n",
       "      <td>3895</td>\n",
       "      <td>6.30</td>\n",
       "      <td>1034</td>\n",
       "    </tr>\n",
       "    <tr>\n",
       "      <th>2842</th>\n",
       "      <td>7.85</td>\n",
       "      <td>283387</td>\n",
       "      <td>Rocketmen</td>\n",
       "      <td>2354</td>\n",
       "      <td>6.98</td>\n",
       "      <td>1020</td>\n",
       "    </tr>\n",
       "    <tr>\n",
       "      <th>2851</th>\n",
       "      <td>7.83</td>\n",
       "      <td>1044</td>\n",
       "      <td>Gunslinger</td>\n",
       "      <td>2191</td>\n",
       "      <td>7.13</td>\n",
       "      <td>1016</td>\n",
       "    </tr>\n",
       "    <tr>\n",
       "      <th>...</th>\n",
       "      <td>...</td>\n",
       "      <td>...</td>\n",
       "      <td>...</td>\n",
       "      <td>...</td>\n",
       "      <td>...</td>\n",
       "      <td>...</td>\n",
       "    </tr>\n",
       "    <tr>\n",
       "      <th>2850</th>\n",
       "      <td>4.73</td>\n",
       "      <td>131111</td>\n",
       "      <td>Codex: Card-Time Strategy – Deluxe Set</td>\n",
       "      <td>1357</td>\n",
       "      <td>8.05</td>\n",
       "      <td>1017</td>\n",
       "    </tr>\n",
       "    <tr>\n",
       "      <th>2868</th>\n",
       "      <td>4.46</td>\n",
       "      <td>1431</td>\n",
       "      <td>War at Sea (Second Edition)</td>\n",
       "      <td>3363</td>\n",
       "      <td>6.52</td>\n",
       "      <td>1007</td>\n",
       "    </tr>\n",
       "    <tr>\n",
       "      <th>2852</th>\n",
       "      <td>4.24</td>\n",
       "      <td>42743</td>\n",
       "      <td>Opera</td>\n",
       "      <td>3117</td>\n",
       "      <td>6.61</td>\n",
       "      <td>1015</td>\n",
       "    </tr>\n",
       "    <tr>\n",
       "      <th>2754</th>\n",
       "      <td>4.18</td>\n",
       "      <td>42244</td>\n",
       "      <td>Martinique</td>\n",
       "      <td>3993</td>\n",
       "      <td>6.25</td>\n",
       "      <td>1065</td>\n",
       "    </tr>\n",
       "    <tr>\n",
       "      <th>2725</th>\n",
       "      <td>3.44</td>\n",
       "      <td>6738</td>\n",
       "      <td>Quicksand</td>\n",
       "      <td>4641</td>\n",
       "      <td>6.11</td>\n",
       "      <td>1084</td>\n",
       "    </tr>\n",
       "  </tbody>\n",
       "</table>\n",
       "<p>186 rows × 6 columns</p>\n",
       "</div>"
      ],
      "text/plain": [
       "      New Bayesian Average      ID                                    Name  \\\n",
       "2735                  7.93    3086                         The Omega Virus   \n",
       "2758                  7.88  165662                            Haru Ichiban   \n",
       "2814                  7.86   16497                                 Rat Hot   \n",
       "2842                  7.85  283387                               Rocketmen   \n",
       "2851                  7.83    1044                              Gunslinger   \n",
       "...                    ...     ...                                     ...   \n",
       "2850                  4.73  131111  Codex: Card-Time Strategy – Deluxe Set   \n",
       "2868                  4.46    1431             War at Sea (Second Edition)   \n",
       "2852                  4.24   42743                                   Opera   \n",
       "2754                  4.18   42244                              Martinique   \n",
       "2725                  3.44    6738                               Quicksand   \n",
       "\n",
       "      Rank  Average  Number of Ratings  \n",
       "2735  3829     6.41               1076  \n",
       "2758  2919     6.65               1061  \n",
       "2814  3895     6.30               1034  \n",
       "2842  2354     6.98               1020  \n",
       "2851  2191     7.13               1016  \n",
       "...    ...      ...                ...  \n",
       "2850  1357     8.05               1017  \n",
       "2868  3363     6.52               1007  \n",
       "2852  3117     6.61               1015  \n",
       "2754  3993     6.25               1065  \n",
       "2725  4641     6.11               1084  \n",
       "\n",
       "[186 rows x 6 columns]"
      ]
     },
     "execution_count": 68,
     "metadata": {},
     "output_type": "execute_result"
    }
   ],
   "source": [
    "name_df1 = rb.dataset_by_review_bracket('name_df', clean_rank_data, clean_review_data, ra.bayesian_average, 'between', 1000)    \n",
    "name_df2 = name_df1.add_column_to_df_filtered_by_reviews('New Bayesian Average', 1100)\n",
    "name_df2 = name_df2.sort_values('New Bayesian Average', ascending = False)\n",
    "name_df2"
   ]
  },
  {
   "cell_type": "code",
   "execution_count": 73,
   "metadata": {},
   "outputs": [
    {
     "data": {
      "image/png": "[encoded data removed]",
      "text/plain": [
       "<Figure size 200x200 with 1 Axes>"
      ]
     },
     "metadata": {},
     "output_type": "display_data"
    }
   ],
   "source": [
    "graph_setup = gr.graph('name_df', name_df2, 'New Bayesian Average', 'n')\n",
    "new_graph = graph_setup.horizontal_bar_graph('Top 10 games based on New Bayesian Avg (between 1000 and 1100 reviews)')"
   ]
  },
  {
   "cell_type": "code",
   "execution_count": 44,
   "metadata": {},
   "outputs": [
    {
     "data": {
      "text/html": [
       "<div>\n",
       "<style scoped>\n",
       "    .dataframe tbody tr th:only-of-type {\n",
       "        vertical-align: middle;\n",
       "    }\n",
       "\n",
       "    .dataframe tbody tr th {\n",
       "        vertical-align: top;\n",
       "    }\n",
       "\n",
       "    .dataframe thead th {\n",
       "        text-align: right;\n",
       "    }\n",
       "</style>\n",
       "<table border=\"1\" class=\"dataframe\">\n",
       "  <thead>\n",
       "    <tr style=\"text-align: right;\">\n",
       "      <th></th>\n",
       "      <th>ID</th>\n",
       "      <th>Name</th>\n",
       "      <th>Rank</th>\n",
       "      <th>Average</th>\n",
       "      <th>Number of Ratings</th>\n",
       "    </tr>\n",
       "  </thead>\n",
       "  <tbody>\n",
       "    <tr>\n",
       "      <th>2732</th>\n",
       "      <td>230791</td>\n",
       "      <td>Time of Legends: Joan of Arc</td>\n",
       "      <td>1747</td>\n",
       "      <td>8.13</td>\n",
       "      <td>1076</td>\n",
       "    </tr>\n",
       "    <tr>\n",
       "      <th>2760</th>\n",
       "      <td>281466</td>\n",
       "      <td>Yedo: Deluxe Master Set</td>\n",
       "      <td>1111</td>\n",
       "      <td>8.10</td>\n",
       "      <td>1060</td>\n",
       "    </tr>\n",
       "    <tr>\n",
       "      <th>2850</th>\n",
       "      <td>131111</td>\n",
       "      <td>Codex: Card-Time Strategy – Deluxe Set</td>\n",
       "      <td>1357</td>\n",
       "      <td>8.05</td>\n",
       "      <td>1017</td>\n",
       "    </tr>\n",
       "    <tr>\n",
       "      <th>2859</th>\n",
       "      <td>318182</td>\n",
       "      <td>Imperium: Legends</td>\n",
       "      <td>1216</td>\n",
       "      <td>8.04</td>\n",
       "      <td>1010</td>\n",
       "    </tr>\n",
       "    <tr>\n",
       "      <th>2813</th>\n",
       "      <td>20542</td>\n",
       "      <td>Advanced Squad Leader: Starter Kit #3</td>\n",
       "      <td>1264</td>\n",
       "      <td>8.04</td>\n",
       "      <td>1034</td>\n",
       "    </tr>\n",
       "    <tr>\n",
       "      <th>...</th>\n",
       "      <td>...</td>\n",
       "      <td>...</td>\n",
       "      <td>...</td>\n",
       "      <td>...</td>\n",
       "      <td>...</td>\n",
       "    </tr>\n",
       "    <tr>\n",
       "      <th>2846</th>\n",
       "      <td>113819</td>\n",
       "      <td>Tenzi</td>\n",
       "      <td>21753</td>\n",
       "      <td>4.90</td>\n",
       "      <td>1018</td>\n",
       "    </tr>\n",
       "    <tr>\n",
       "      <th>2857</th>\n",
       "      <td>13713</td>\n",
       "      <td>Solitaire</td>\n",
       "      <td>21789</td>\n",
       "      <td>4.40</td>\n",
       "      <td>1014</td>\n",
       "    </tr>\n",
       "    <tr>\n",
       "      <th>2753</th>\n",
       "      <td>5749</td>\n",
       "      <td>Simon</td>\n",
       "      <td>21793</td>\n",
       "      <td>4.33</td>\n",
       "      <td>1065</td>\n",
       "    </tr>\n",
       "    <tr>\n",
       "      <th>2867</th>\n",
       "      <td>7262</td>\n",
       "      <td>Top Trumps</td>\n",
       "      <td>21798</td>\n",
       "      <td>4.23</td>\n",
       "      <td>1007</td>\n",
       "    </tr>\n",
       "    <tr>\n",
       "      <th>2718</th>\n",
       "      <td>6932</td>\n",
       "      <td>Hi Ho! Cherry-O</td>\n",
       "      <td>21811</td>\n",
       "      <td>3.56</td>\n",
       "      <td>1086</td>\n",
       "    </tr>\n",
       "  </tbody>\n",
       "</table>\n",
       "<p>186 rows × 5 columns</p>\n",
       "</div>"
      ],
      "text/plain": [
       "          ID                                    Name   Rank  Average  \\\n",
       "2732  230791            Time of Legends: Joan of Arc   1747     8.13   \n",
       "2760  281466                 Yedo: Deluxe Master Set   1111     8.10   \n",
       "2850  131111  Codex: Card-Time Strategy – Deluxe Set   1357     8.05   \n",
       "2859  318182                       Imperium: Legends   1216     8.04   \n",
       "2813   20542   Advanced Squad Leader: Starter Kit #3   1264     8.04   \n",
       "...      ...                                     ...    ...      ...   \n",
       "2846  113819                                   Tenzi  21753     4.90   \n",
       "2857   13713                               Solitaire  21789     4.40   \n",
       "2753    5749                                   Simon  21793     4.33   \n",
       "2867    7262                              Top Trumps  21798     4.23   \n",
       "2718    6932                         Hi Ho! Cherry-O  21811     3.56   \n",
       "\n",
       "      Number of Ratings  \n",
       "2732               1076  \n",
       "2760               1060  \n",
       "2850               1017  \n",
       "2859               1010  \n",
       "2813               1034  \n",
       "...                 ...  \n",
       "2846               1018  \n",
       "2857               1014  \n",
       "2753               1065  \n",
       "2867               1007  \n",
       "2718               1086  \n",
       "\n",
       "[186 rows x 5 columns]"
      ]
     },
     "execution_count": 44,
     "metadata": {},
     "output_type": "execute_result"
    }
   ],
   "source": [
    "name_df1 = rb.dataset_by_review_bracket('name_df', clean_rank_data, clean_review_data, ra.bayesian_average, 'between', 1000)    \n",
    "name_df2 = name_df1.add_column_to_df_filtered_by_reviews('Average', 1100)\n",
    "name_df2 = name_df2.sort_values('Average', ascending = False)\n",
    "name_df2"
   ]
  },
  {
   "cell_type": "code",
   "execution_count": 54,
   "metadata": {},
   "outputs": [
    {
     "data": {
      "image/png": "[encoded data removed]",
      "text/plain": [
       "<Figure size 200x200 with 1 Axes>"
      ]
     },
     "metadata": {},
     "output_type": "display_data"
    }
   ],
   "source": [
    "graph_setup = gr.graph('name_df', name_df2, 'Average', 'n')\n",
    "graph_of_alg = graph_setup.horizontal_bar_graph('Top 10 games based on Arithmetic Mean (between 1000 and 1100 reviews)', 'yellow')"
   ]
  },
  {
   "cell_type": "markdown",
   "metadata": {},
   "source": [
    "#### The project's main.py will look like:"
   ]
  },
  {
   "cell_type": "code",
   "execution_count": null,
   "metadata": {},
   "outputs": [],
   "source": [
    "import Source.modules.dataset_by_review_bracket as rb\n",
    "import Source.modules.ranking_algorithms as ra\n",
    "import Source.modules.graph as gr\n",
    "from Source.modules.data_processing import clean_rank_data, clean_review_data"
   ]
  },
  {
   "cell_type": "code",
   "execution_count": 93,
   "metadata": {},
   "outputs": [],
   "source": [
    "def ranking_algorithm_by_reviews(ranking_algorithm, name_df, operator, num_of_reviews1, title_graph):\n",
    "    '''Filters datasets by number of reviews and adds a new column to them with a specified new value, sorting by that value or not that value'''\n",
    "    \n",
    "    if ranking_algorithm == 'Wilson Score'.lower():\n",
    "        name_df1 = rb.dataset_by_review_bracket(name_df, clean_rank_data, clean_review_data, ra.wilson_function, operator, num_of_reviews1)    \n",
    "        name_df2 = name_df1.add_column_to_df_filtered_by_reviews('Wilson function')\n",
    "        name_df2 = name_df2.sort_values('Wilson function', ascending = False)\n",
    "        graph_setup = gr.graph(name_df, name_df2, 'Wilson function', 'n')\n",
    "        graph_of_alg = graph_setup.horizontal_bar_graph(title_graph)\n",
    "        \n",
    "    elif ranking_algorithm =='Bayesian'.lower():\n",
    "        name_df1 = rb.dataset_by_review_bracket(name_df, clean_rank_data, clean_review_data, ra.bayesian_average, operator, num_of_reviews1)    \n",
    "        name_df2 = name_df1.add_column_to_df_filtered_by_reviews('New Bayesian Average')\n",
    "        name_df2 = name_df2.sort_values('New Bayesian Average', ascending = False)\n",
    "        graph_setup = gr.graph(name_df, name_df2, 'New Bayesian Average', 'n')\n",
    "        graph_of_alg = graph_setup.horizontal_bar_graph(title_graph)\n",
    "        \n",
    "    elif ranking_algorithm == 'Average'.lower():\n",
    "        name_df1 = rb.dataset_by_review_bracket(name_df, clean_rank_data, clean_review_data, None , operator, num_of_reviews1)\n",
    "        name_df2 =  name_df1.add_column_to_df_filtered_by_reviews('Average', 'n')\n",
    "        name_df2 = name_df2.sort_values('Average', ascending = False)\n",
    "        graph_setup = gr.graph(name_df, name_df2, 'Average', 'n')\n",
    "        graph_of_alg = graph_setup.horizontal_bar_graph(title_graph, 'orange')\n",
    "        \n",
    "    else:\n",
    "        raise ValueError('Please enter a valid ranking algorithm name among \"Wilson Function\", \"New Bayesian Average\", and \"Average\"')\n",
    "        \n",
    "        \n",
    "    return  graph_of_alg, name_df2"
   ]
  },
  {
   "cell_type": "code",
   "execution_count": 95,
   "metadata": {},
   "outputs": [
    {
     "data": {
      "image/png": "[encoded data removed]",
      "text/plain": [
       "<Figure size 200x200 with 1 Axes>"
      ]
     },
     "metadata": {},
     "output_type": "display_data"
    },
    {
     "data": {
      "text/plain": [
       "(None,\n",
       "     Wilson function      ID                    Name  Rank  Average  \\\n",
       " 8              0.98  173346          7 Wonders Duel    16     8.11   \n",
       " 15             0.97  230802                    Azul    58     7.80   \n",
       " 7              0.97  167791       Terraforming Mars     4     8.42   \n",
       " 12             0.96  169786                  Scythe    14     8.22   \n",
       " 3              0.96   68448               7 Wonders    73     7.74   \n",
       " 10             0.95    3076             Puerto Rico    31     7.97   \n",
       " 14             0.95   14996  Ticket to Ride: Europe   131     7.54   \n",
       " 6              0.95  178900               Codenames   101     7.60   \n",
       " 0              0.94   30549                Pandemic   106     7.59   \n",
       " 11             0.93  148228                Splendor   183     7.44   \n",
       " 5              0.93    9209          Ticket to Ride   192     7.41   \n",
       " 4              0.93   36218                Dominion   104     7.61   \n",
       " 1              0.93     822             Carcassonne   190     7.42   \n",
       " 9              0.93   31260                Agricola    36     7.93   \n",
       " 13             0.91   40692             Small World   280     7.25   \n",
       " 16             0.91   70323           King of Tokyo   345     7.17   \n",
       " 2              0.88      13                   Catan   429     7.14   \n",
       " \n",
       "     Number of Ratings  \n",
       " 8               69472  \n",
       " 15              62802  \n",
       " 7               74216  \n",
       " 12              64569  \n",
       " 3               89982  \n",
       " 10              65443  \n",
       " 14              63264  \n",
       " 6               74419  \n",
       " 0              108975  \n",
       " 11              64698  \n",
       " 5               76171  \n",
       " 4               81561  \n",
       " 1              108738  \n",
       " 9               66093  \n",
       " 13              64559  \n",
       " 16              61099  \n",
       " 2              108024  )"
      ]
     },
     "execution_count": 95,
     "metadata": {},
     "output_type": "execute_result"
    }
   ],
   "source": [
    "ranking_algorithm_by_reviews('wilson score', 'superman', 'greater', 60000, 'Ranking by Average for games with 60k+ reviews')"
   ]
  }
 ],
 "metadata": {
  "kernelspec": {
   "display_name": "Python 3",
   "language": "python",
   "name": "python3"
  },
  "language_info": {
   "codemirror_mode": {
    "name": "ipython",
    "version": 3
   },
   "file_extension": ".py",
   "mimetype": "text/x-python",
   "name": "python",
   "nbconvert_exporter": "python",
   "pygments_lexer": "ipython3",
   "version": "3.12.4"
  }
 },
 "nbformat": 4,
 "nbformat_minor": 2
}
