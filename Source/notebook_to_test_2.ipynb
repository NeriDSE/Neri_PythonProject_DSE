{
 "cells": [
  {
   "cell_type": "code",
   "execution_count": 2,
   "metadata": {},
   "outputs": [
    {
     "name": "stderr",
     "output_type": "stream",
     "text": [
      "c:\\Users\\Neri\\Downloads\\DSE\\DATA_MANAGEMENT\\PYTHON\\python_project(rankingboardgames)\\Source\\data_processing.py:10: SyntaxWarning: invalid escape sequence '\\{'\n",
      "  dataset_ranks = pd.read_csv(f'{data_path}\\{rank_file}')\n",
      "c:\\Users\\Neri\\Downloads\\DSE\\DATA_MANAGEMENT\\PYTHON\\python_project(rankingboardgames)\\Source\\data_processing.py:15: SyntaxWarning: invalid escape sequence '\\{'\n",
      "  dataset_reviews = pd.read_csv(f'{data_path}\\{file_reviews}')\n"
     ]
    },
    {
     "name": "stdout",
     "output_type": "stream",
     "text": [
      "c:\\Users\\Neri\\Downloads\\DSE\\DATA_MANAGEMENT\\PYTHON\\python_project(rankingboardgames)\\Source\\data\n"
     ]
    }
   ],
   "source": [
    "\n",
    "import pandas as pd\n",
    "import numpy as np\n",
    "from scipy.stats import norm\n",
    "import matplotlib.pyplot as plt\n",
    "import os\n",
    "import importlib # this is just for me\n",
    "import ranking_algorithms as ra\n",
    "import dataset_by_review_bracket as rb\n",
    "import graph as gr\n",
    "from data_processing import clean_rank_data, clean_review_data\n",
    "# %matplotlib inline\n",
    "\n",
    "\n",
    "# %load_ext autoreload\n",
    "# %autoreload 2\n"
   ]
  },
  {
   "cell_type": "code",
   "execution_count": 25,
   "metadata": {},
   "outputs": [
    {
     "data": {
      "text/plain": [
       "<module 'graph' from 'c:\\\\Users\\\\Neri\\\\Downloads\\\\DSE\\\\DATA_MANAGEMENT\\\\PYTHON\\\\python_project(rankingboardgames)\\\\Source\\\\graph.py'>"
      ]
     },
     "execution_count": 25,
     "metadata": {},
     "output_type": "execute_result"
    }
   ],
   "source": [
    "importlib.reload(gr)"
   ]
  },
  {
   "cell_type": "code",
   "execution_count": 3,
   "metadata": {},
   "outputs": [
    {
     "data": {
      "text/plain": [
       "Index(['ID', 'Name', 'Rank', 'Average', 'Number of Ratings'], dtype='object')"
      ]
     },
     "execution_count": 3,
     "metadata": {},
     "output_type": "execute_result"
    }
   ],
   "source": [
    "clean_rank_data.columns"
   ]
  },
  {
   "cell_type": "code",
   "execution_count": 5,
   "metadata": {},
   "outputs": [
    {
     "data": {
      "text/html": [
       "<div>\n",
       "<style scoped>\n",
       "    .dataframe tbody tr th:only-of-type {\n",
       "        vertical-align: middle;\n",
       "    }\n",
       "\n",
       "    .dataframe tbody tr th {\n",
       "        vertical-align: top;\n",
       "    }\n",
       "\n",
       "    .dataframe thead th {\n",
       "        text-align: right;\n",
       "    }\n",
       "</style>\n",
       "<table border=\"1\" class=\"dataframe\">\n",
       "  <thead>\n",
       "    <tr style=\"text-align: right;\">\n",
       "      <th></th>\n",
       "      <th>Wilson function</th>\n",
       "      <th>ID</th>\n",
       "      <th>Name</th>\n",
       "      <th>Rank</th>\n",
       "      <th>Average</th>\n",
       "      <th>Number of Ratings</th>\n",
       "    </tr>\n",
       "  </thead>\n",
       "  <tbody>\n",
       "    <tr>\n",
       "      <th>3</th>\n",
       "      <td>0.96</td>\n",
       "      <td>68448</td>\n",
       "      <td>7 Wonders</td>\n",
       "      <td>73</td>\n",
       "      <td>7.74</td>\n",
       "      <td>89982</td>\n",
       "    </tr>\n",
       "    <tr>\n",
       "      <th>0</th>\n",
       "      <td>0.94</td>\n",
       "      <td>30549</td>\n",
       "      <td>Pandemic</td>\n",
       "      <td>106</td>\n",
       "      <td>7.59</td>\n",
       "      <td>108975</td>\n",
       "    </tr>\n",
       "    <tr>\n",
       "      <th>1</th>\n",
       "      <td>0.93</td>\n",
       "      <td>822</td>\n",
       "      <td>Carcassonne</td>\n",
       "      <td>190</td>\n",
       "      <td>7.42</td>\n",
       "      <td>108738</td>\n",
       "    </tr>\n",
       "    <tr>\n",
       "      <th>4</th>\n",
       "      <td>0.93</td>\n",
       "      <td>36218</td>\n",
       "      <td>Dominion</td>\n",
       "      <td>104</td>\n",
       "      <td>7.61</td>\n",
       "      <td>81561</td>\n",
       "    </tr>\n",
       "    <tr>\n",
       "      <th>2</th>\n",
       "      <td>0.88</td>\n",
       "      <td>13</td>\n",
       "      <td>Catan</td>\n",
       "      <td>429</td>\n",
       "      <td>7.14</td>\n",
       "      <td>108024</td>\n",
       "    </tr>\n",
       "  </tbody>\n",
       "</table>\n",
       "</div>"
      ],
      "text/plain": [
       "   Wilson function     ID         Name  Rank  Average  Number of Ratings\n",
       "3             0.96  68448    7 Wonders    73     7.74              89982\n",
       "0             0.94  30549     Pandemic   106     7.59             108975\n",
       "1             0.93    822  Carcassonne   190     7.42             108738\n",
       "4             0.93  36218     Dominion   104     7.61              81561\n",
       "2             0.88     13        Catan   429     7.14             108024"
      ]
     },
     "execution_count": 5,
     "metadata": {},
     "output_type": "execute_result"
    }
   ],
   "source": [
    "filtered_dataset_by_wilson = rb.dataset_by_review_bracket('most_reviewed', clean_rank_data, clean_review_data, ra.wilson_function, 'greater', 80000)\n",
    "most_reviewed_games = filtered_dataset_by_wilson.add_column_to_df_filtered_by_reviews('Wilson function')\n",
    "most_reviewed_games.sort_values('Wilson function', ascending = False) # to display in df form, this is already included in the bar graph situation.\n",
    "\n"
   ]
  },
  {
   "cell_type": "code",
   "execution_count": 7,
   "metadata": {},
   "outputs": [
    {
     "data": {
      "text/html": [
       "<div>\n",
       "<style scoped>\n",
       "    .dataframe tbody tr th:only-of-type {\n",
       "        vertical-align: middle;\n",
       "    }\n",
       "\n",
       "    .dataframe tbody tr th {\n",
       "        vertical-align: top;\n",
       "    }\n",
       "\n",
       "    .dataframe thead th {\n",
       "        text-align: right;\n",
       "    }\n",
       "</style>\n",
       "<table border=\"1\" class=\"dataframe\">\n",
       "  <thead>\n",
       "    <tr style=\"text-align: right;\">\n",
       "      <th></th>\n",
       "      <th>Wilson function</th>\n",
       "      <th>ID</th>\n",
       "      <th>Name</th>\n",
       "      <th>Rank</th>\n",
       "      <th>Average</th>\n",
       "      <th>Number of Ratings</th>\n",
       "    </tr>\n",
       "  </thead>\n",
       "  <tbody>\n",
       "    <tr>\n",
       "      <th>3</th>\n",
       "      <td>0.96</td>\n",
       "      <td>68448</td>\n",
       "      <td>7 Wonders</td>\n",
       "      <td>73</td>\n",
       "      <td>7.74</td>\n",
       "      <td>89982</td>\n",
       "    </tr>\n",
       "    <tr>\n",
       "      <th>4</th>\n",
       "      <td>0.93</td>\n",
       "      <td>36218</td>\n",
       "      <td>Dominion</td>\n",
       "      <td>104</td>\n",
       "      <td>7.61</td>\n",
       "      <td>81561</td>\n",
       "    </tr>\n",
       "    <tr>\n",
       "      <th>0</th>\n",
       "      <td>0.94</td>\n",
       "      <td>30549</td>\n",
       "      <td>Pandemic</td>\n",
       "      <td>106</td>\n",
       "      <td>7.59</td>\n",
       "      <td>108975</td>\n",
       "    </tr>\n",
       "    <tr>\n",
       "      <th>1</th>\n",
       "      <td>0.93</td>\n",
       "      <td>822</td>\n",
       "      <td>Carcassonne</td>\n",
       "      <td>190</td>\n",
       "      <td>7.42</td>\n",
       "      <td>108738</td>\n",
       "    </tr>\n",
       "    <tr>\n",
       "      <th>2</th>\n",
       "      <td>0.88</td>\n",
       "      <td>13</td>\n",
       "      <td>Catan</td>\n",
       "      <td>429</td>\n",
       "      <td>7.14</td>\n",
       "      <td>108024</td>\n",
       "    </tr>\n",
       "  </tbody>\n",
       "</table>\n",
       "</div>"
      ],
      "text/plain": [
       "   Wilson function     ID         Name  Rank  Average  Number of Ratings\n",
       "3             0.96  68448    7 Wonders    73     7.74              89982\n",
       "4             0.93  36218     Dominion   104     7.61              81561\n",
       "0             0.94  30549     Pandemic   106     7.59             108975\n",
       "1             0.93    822  Carcassonne   190     7.42             108738\n",
       "2             0.88     13        Catan   429     7.14             108024"
      ]
     },
     "execution_count": 7,
     "metadata": {},
     "output_type": "execute_result"
    }
   ],
   "source": [
    "most_reviewed_games.sort_values('Average', ascending = False)"
   ]
  },
  {
   "cell_type": "code",
   "execution_count": null,
   "metadata": {},
   "outputs": [
    {
     "data": {
      "text/plain": [
       "graph.graph"
      ]
     },
     "execution_count": 28,
     "metadata": {},
     "output_type": "execute_result"
    }
   ],
   "source": [
    "most_reviewed_graph = gr.graph('most_reviewed_games_by_wilson', most_reviewed_games, 'Wilson function', 'n')\n",
    "# type(most_reviewed_graph)"
   ]
  },
  {
   "cell_type": "code",
   "execution_count": 27,
   "metadata": {},
   "outputs": [
    {
     "data": {
      "image/png": "[encoded data removed]",
      "text/plain": [
       "<Figure size 200x200 with 1 Axes>"
      ]
     },
     "metadata": {},
     "output_type": "display_data"
    }
   ],
   "source": [
    "most_reviewed_graph.horizontal_bar_graph('Wilson based ranking, 25k+ reviews')"
   ]
  },
  {
   "cell_type": "code",
   "execution_count": 6,
   "metadata": {},
   "outputs": [
    {
     "data": {
      "image/png": "[encoded data removed]",
      "text/plain": [
       "<Figure size 200x200 with 1 Axes>"
      ]
     },
     "metadata": {},
     "output_type": "display_data"
    }
   ],
   "source": [
    "avg_graph = gr.graph('avg', most_reviewed_games, 'Average', 'n')\n",
    "avg_graph.horizontal_bar_graph('Avg')"
   ]
  },
  {
   "cell_type": "code",
   "execution_count": null,
   "metadata": {},
   "outputs": [],
   "source": [
    "filtered_dataset_by_bayes = rb.dataset_by_review_bracket('in between reviewed', clean_rank_data, clean_review_data, ra.bayesian_average, 'between', 3900)\n",
    "mid_reviewed_games = filtered_dataset_by_bayes.add_column_to_df_filtered_by_reviews('New Bayesian Average', 4000)\n",
    "mid_reviewed_games.sort_values('New Bayesian Average', ascending = False)\n"
   ]
  },
  {
   "cell_type": "code",
   "execution_count": null,
   "metadata": {},
   "outputs": [],
   "source": [
    "# 1. function doesn't work automatically (this just may not be as big of a problem as I think it is.\n",
    "# 2. The dataset functions can't be in the same place. or can they? I'd have to create two objects no>\n",
    "# I can modify the statistical functions so they run over any dataset by themselves, the object is for the distribution.\n",
    "\n",
    "# when it comes to building my steps though there's still problem #2 and there's no way I can just use the function as before.\n",
    "# I may save those not as objects but simply as functions in a module useful for that purpose.\n",
    "\n",
    "# I would like to maintain objects, but the graph thing will definetely be an object so, maybe it's worth a shot. let's see. \n",
    "\n",
    "# the names are useless.\n"
   ]
  },
  {
   "cell_type": "code",
   "execution_count": null,
   "metadata": {},
   "outputs": [],
   "source": [
    "# there's a lot to do.\n",
    "# polish the dataset class with the restricted reviews and do the wilson score/ bayesian thing for it\n",
    "# create the graph class for each one. should be doable.\n",
    "\n"
   ]
  },
  {
   "cell_type": "code",
   "execution_count": 4,
   "metadata": {},
   "outputs": [],
   "source": [
    "# almost 19 Million users\n",
    "# from the column users I  want rows where a user has rated at least 10 games\n",
    "# So I want to find all the users who appear less than a certain amount of times and take them out of my datasets \n",
    "# so I can look at their ranking\n",
    "def top_user(dataset, number_of_top_users):\n",
    "    \n",
    "    # I want to say from this column of users \n",
    "    # if a user has appeared less than ten times drop them\n",
    "    user_appearance = dataset['User'].value_counts()\n",
    "    \n",
    "    for user in user_appearance:\n",
    "        \n",
    "        if value < 10:\n",
    "            top_users = dataset.drop(user, axis = 0)\n",
    "    \n",
    "    return top_users\n",
    "\n"
   ]
  },
  {
   "cell_type": "code",
   "execution_count": null,
   "metadata": {},
   "outputs": [],
   "source": [
    "x = clean_review_data['User'].value_counts()\n",
    "\n",
    "y = x[x>1000]\n",
    "y"
   ]
  },
  {
   "cell_type": "code",
   "execution_count": null,
   "metadata": {},
   "outputs": [],
   "source": [
    "y = clean_review_data[x>1000]\n",
    "# the og dataset but only with"
   ]
  },
  {
   "cell_type": "code",
   "execution_count": null,
   "metadata": {},
   "outputs": [],
   "source": [
    "top_user_dataset = clean_review_data['User']\n",
    "# the dataset ofa user"
   ]
  },
  {
   "cell_type": "code",
   "execution_count": null,
   "metadata": {},
   "outputs": [],
   "source": [
    "# for every user in the counts, I want the corresponding amount of times they have rated a game. I got that.\n",
    "# if this value is less than a certain amount I want this value removed from the review dataset.\n",
    "\n",
    "for user in x:\n",
    "    print(user)"
   ]
  },
  {
   "cell_type": "code",
   "execution_count": null,
   "metadata": {},
   "outputs": [
    {
     "data": {
      "text/plain": [
       "np.float64(45.94004820561268)"
      ]
     },
     "execution_count": 25,
     "metadata": {},
     "output_type": "execute_result"
    }
   ],
   "source": [
    "avg_user_appearance = np.average(x.values)\n",
    "avg_user_appearance\n",
    "# clean for ratings above 10 blow 0\n",
    "# nulls and duplicates"
   ]
  },
  {
   "cell_type": "code",
   "execution_count": null,
   "metadata": {},
   "outputs": [],
   "source": [
    "# def side_by_side_graphs(graph_left, graph_right):\n",
    "#     fig, ax = plt.subplots(1, 2)\n",
    "#     ax[0] = graph_left\n",
    "#     ax[1] = graph_right\n",
    "    \n",
    "#     return plt.show\n",
    "\n",
    "# New_Column, USELESS now.\n",
    "def New_Column(dataset, function):\n",
    "    # create an empty list (our future column)\n",
    "    New_column = []\n",
    "    # for each row in a dataset I have to find its ID and apply a the funciton over it\n",
    "    for id in dataset['ID'].unique():\n",
    "        New_column.append(function(id))\n",
    "    \n",
    "    return New_column"
   ]
  }
 ],
 "metadata": {
  "kernelspec": {
   "display_name": "Python 3",
   "language": "python",
   "name": "python3"
  },
  "language_info": {
   "codemirror_mode": {
    "name": "ipython",
    "version": 3
   },
   "file_extension": ".py",
   "mimetype": "text/x-python",
   "name": "python",
   "nbconvert_exporter": "python",
   "pygments_lexer": "ipython3",
   "version": "3.12.4"
  }
 },
 "nbformat": 4,
 "nbformat_minor": 2
}
